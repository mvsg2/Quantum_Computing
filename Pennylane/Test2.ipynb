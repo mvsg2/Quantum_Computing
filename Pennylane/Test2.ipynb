{
 "cells": [
  {
   "cell_type": "code",
   "execution_count": 1,
   "metadata": {},
   "outputs": [],
   "source": [
    "import pennylane as qml\n",
    "from pennylane import numpy as np"
   ]
  },
  {
   "attachments": {},
   "cell_type": "markdown",
   "metadata": {},
   "source": [
    "### QHack Challange - Reading time as a qubit state on Bloch Sphere"
   ]
  },
  {
   "cell_type": "code",
   "execution_count": 2,
   "metadata": {},
   "outputs": [],
   "source": [
    "dev = qml.device(\"default.qubit\", wires=[\"hour\", \"minute\"])"
   ]
  },
  {
   "cell_type": "code",
   "execution_count": 3,
   "metadata": {},
   "outputs": [],
   "source": [
    "@qml.qnode(dev)\n",
    "def time(hour, minute):\n",
    "    \"\"\"Generates the quantum state associated with the time passed as argument.\n",
    "\n",
    "    Args:\n",
    "        hour (int): Hour associated with the requested time\n",
    "        minute (int): Minutes associated with the requested time\n",
    "\n",
    "    Returns:\n",
    "        (numpy.tensor): Probabilities associated with the state created.\n",
    "    \"\"\"\n",
    "    theta_hour_hand = (30 * hour * (np.pi/180)) + (0.5 * minute * (np.pi/180))\n",
    "    theta_min_hand = 6 * minute * (np.pi/180)\n",
    "    qml.RY(-theta_hour_hand, wires=\"hour\")\n",
    "    qml.RY(-theta_min_hand, wires=\"minute\")\n",
    "    return qml.probs(wires=[\"hour\", \"minute\"])"
   ]
  },
  {
   "cell_type": "code",
   "execution_count": 4,
   "metadata": {},
   "outputs": [
    {
     "data": {
      "text/plain": [
       "(<Figure size 400x300 with 1 Axes>, <Axes: >)"
      ]
     },
     "execution_count": 4,
     "metadata": {},
     "output_type": "execute_result"
    },
    {
     "data": {
      "image/png": "[encoded data removed]",
      "text/plain": [
       "<Figure size 400x300 with 1 Axes>"
      ]
     },
     "metadata": {},
     "output_type": "display_data"
    }
   ],
   "source": [
    "qml.draw_mpl(qnode=time)(1, 23)"
   ]
  },
  {
   "cell_type": "code",
   "execution_count": 5,
   "metadata": {},
   "outputs": [
    {
     "data": {
      "text/plain": [
       "tensor([0.40219036, 0.40219036, 0.09780964, 0.09780964], requires_grad=True)"
      ]
     },
     "execution_count": 5,
     "metadata": {},
     "output_type": "execute_result"
    }
   ],
   "source": [
    "time(1, 45)"
   ]
  },
  {
   "cell_type": "code",
   "execution_count": 6,
   "metadata": {},
   "outputs": [
    {
     "data": {
      "text/plain": [
       "tensor([0.9330127, 0.       , 0.0669873, 0.       ], requires_grad=True)"
      ]
     },
     "execution_count": 6,
     "metadata": {},
     "output_type": "execute_result"
    }
   ],
   "source": [
    "time(1, 0)"
   ]
  },
  {
   "cell_type": "code",
   "execution_count": 7,
   "metadata": {},
   "outputs": [
    {
     "data": {
      "text/plain": [
       "tensor([0.5, 0. , 0.5, 0. ], requires_grad=True)"
      ]
     },
     "execution_count": 7,
     "metadata": {},
     "output_type": "execute_result"
    }
   ],
   "source": [
    "time(9, 0)   # the sample test code below for a 2-qubit state with the 0th qubit in superposition and the 1st qubit in the |0> state proves this result"
   ]
  },
  {
   "cell_type": "code",
   "execution_count": 8,
   "metadata": {},
   "outputs": [
    {
     "name": "stdout",
     "output_type": "stream",
     "text": [
      "[0.5 0.  0.5 0. ]\n"
     ]
    },
    {
     "data": {
      "text/plain": [
       "(<Figure size 400x300 with 1 Axes>, <Axes: >)"
      ]
     },
     "execution_count": 8,
     "metadata": {},
     "output_type": "execute_result"
    },
    {
     "data": {
      "image/png": "[encoded data removed]",
      "text/plain": [
       "<Figure size 400x300 with 1 Axes>"
      ]
     },
     "metadata": {},
     "output_type": "display_data"
    }
   ],
   "source": [
    "dev_test = qml.device(\"default.qubit\", wires=2)\n",
    "\n",
    "@qml.qnode(dev_test)\n",
    "def test_circuit():\n",
    "    qml.Hadamard(wires=0)\n",
    "    # qml.Hadamard(wires=1)\n",
    "    return qml.probs(wires=[0,1])\n",
    "\n",
    "print(test_circuit())\n",
    "qml.draw_mpl(test_circuit)()"
   ]
  },
  {
   "cell_type": "code",
   "execution_count": 9,
   "metadata": {},
   "outputs": [
    {
     "data": {
      "text/plain": [
       "tensor([0.5, 0. , 0.5, 0. ], requires_grad=True)"
      ]
     },
     "execution_count": 9,
     "metadata": {},
     "output_type": "execute_result"
    }
   ],
   "source": [
    "time(3, 0)"
   ]
  },
  {
   "attachments": {},
   "cell_type": "markdown",
   "metadata": {},
   "source": [
    "Usually sqrt(ab) is not equal to sqrt(a)*sqrt(b) when a and b are complex numbers"
   ]
  },
  {
   "cell_type": "code",
   "execution_count": 34,
   "metadata": {},
   "outputs": [],
   "source": [
    "a = -1+1j\n",
    "b = -1+1j\n",
    "c = a*b"
   ]
  },
  {
   "cell_type": "code",
   "execution_count": 35,
   "metadata": {},
   "outputs": [
    {
     "name": "stdout",
     "output_type": "stream",
     "text": [
      "(0.45508986056222733+1.09868411346781j)\n",
      "(0.45508986056222733+1.09868411346781j)\n"
     ]
    }
   ],
   "source": [
    "a_sqrt = np.sqrt(a)\n",
    "b_sqrt = np.sqrt(b)\n",
    "\n",
    "print(a_sqrt)\n",
    "print(b_sqrt)"
   ]
  },
  {
   "cell_type": "code",
   "execution_count": 36,
   "metadata": {},
   "outputs": [
    {
     "name": "stdout",
     "output_type": "stream",
     "text": [
      "-2j\n"
     ]
    }
   ],
   "source": [
    "print(c)"
   ]
  },
  {
   "cell_type": "code",
   "execution_count": 37,
   "metadata": {},
   "outputs": [
    {
     "name": "stdout",
     "output_type": "stream",
     "text": [
      "(1-1j)\n"
     ]
    }
   ],
   "source": [
    "d = np.sqrt(c)\n",
    "print(d)"
   ]
  },
  {
   "cell_type": "code",
   "execution_count": 38,
   "metadata": {},
   "outputs": [
    {
     "name": "stdout",
     "output_type": "stream",
     "text": [
      "(-1.0000000000000002+1j)\n"
     ]
    }
   ],
   "source": [
    "print(a_sqrt*b_sqrt)"
   ]
  },
  {
   "cell_type": "code",
   "execution_count": 42,
   "metadata": {},
   "outputs": [],
   "source": [
    "import sys\n",
    "sys.path.append(\"E:/Codes/Python\")\n",
    "from QuantumModules import apply_U_Gate"
   ]
  },
  {
   "cell_type": "code",
   "execution_count": 47,
   "metadata": {},
   "outputs": [
    {
     "data": {
      "text/plain": [
       "array([-0.8660254, -0.5      ])"
      ]
     },
     "execution_count": 47,
     "metadata": {},
     "output_type": "execute_result"
    }
   ],
   "source": [
    "theta = 4*np.pi/3\n",
    "RY = [[np.cos(theta/2), -np.sin(theta/2)], [np.sin(theta/2), np.cos(theta/2)]]\n",
    "apply_U_Gate(U=RY, state=[0, 1])"
   ]
  },
  {
   "attachments": {},
   "cell_type": "markdown",
   "metadata": {},
   "source": [
    "### QHack Challenge - False Proof"
   ]
  },
  {
   "cell_type": "code",
   "execution_count": 150,
   "metadata": {},
   "outputs": [],
   "source": [
    "dev1= qml.device(name='default.qubit', wires=2, shots=1)\n",
    "dev1.operations.add(\"op\")\n",
    "dev1.operations.add(\"C(op)\")\n",
    "\n",
    "@qml.qnode(device=dev1)\n",
    "def circuit(U):\n",
    "    \"\"\"This will be the circuit you will use to determine which of the two angles we have.\n",
    "    Remember that only a single shot will be executed.\n",
    "\n",
    "    Args:\n",
    "        U (qml.ops): It is the gate to discriminate between  RY(2pi/3) or RY(4pi/3).\n",
    "\n",
    "    Returns:\n",
    "        (numpy.tensor): Vector of two elements representing the output measured in each of the qubits.\n",
    "    \"\"\"\n",
    "    # to use U,  call 'U(wires = <wire where you want to apply the gate>)'\n",
    "    # to use Control-U, call 'qml.ctrl(U, control = <control wire>)(wires = <wire where you want to apply the gate>)'\n",
    "    qml.Hadamard(wires=0)\n",
    "    qml.Hadamard(wires=1)\n",
    "    qml.ctrl(op=U, control=0)(wires=1)\n",
    "    # return qml.state()   # set shots=None to suppress warnings when using this statement\n",
    "    return qml.sample(wires=range(2))"
   ]
  },
  {
   "cell_type": "code",
   "execution_count": 167,
   "metadata": {},
   "outputs": [],
   "source": [
    "def process_measurement(measurement):\n",
    "    \"\"\"This function processes the output of the circuit to discriminate between gates.\n",
    "\n",
    "    Args:\n",
    "        measurement (numpy.array): Output of the previous circuit a vector of dimension 2.\n",
    "\n",
    "    Returns:\n",
    "        (int): return 2 or 4 depending on the associated RY gate.\n",
    "    \"\"\"\n",
    "    # measurement = measurement\n",
    "    if all(measurement == 1):\n",
    "        return 2\n",
    "    else:\n",
    "        return 4"
   ]
  },
  {
   "cell_type": "code",
   "execution_count": 238,
   "metadata": {},
   "outputs": [
    {
     "ename": "ValueError",
     "evalue": "The control wires must be different from the base operation wires.",
     "output_type": "error",
     "traceback": [
      "\u001b[1;31m---------------------------------------------------------------------------\u001b[0m",
      "\u001b[1;31mValueError\u001b[0m                                Traceback (most recent call last)",
      "Cell \u001b[1;32mIn [238], line 2\u001b[0m\n\u001b[0;32m      1\u001b[0m th \u001b[39m=\u001b[39m \u001b[39m2\u001b[39m\u001b[39m*\u001b[39mnp\u001b[39m.\u001b[39mpi\u001b[39m/\u001b[39m\u001b[39m3\u001b[39m\n\u001b[1;32m----> 2\u001b[0m circuit(U\u001b[39m=\u001b[39mqml\u001b[39m.\u001b[39mctrl(op\u001b[39m=\u001b[39mqml\u001b[39m.\u001b[39mRY(th, wires\u001b[39m=\u001b[39m\u001b[39m1\u001b[39m), control\u001b[39m=\u001b[39m\u001b[39m0\u001b[39m))\n",
      "File \u001b[1;32m~\\AppData\\Local\\Packages\\PythonSoftwareFoundation.Python.3.10_qbz5n2kfra8p0\\LocalCache\\local-packages\\Python310\\site-packages\\pennylane\\qnode.py:800\u001b[0m, in \u001b[0;36mQNode.__call__\u001b[1;34m(self, *args, **kwargs)\u001b[0m\n\u001b[0;32m    797\u001b[0m         set_shots(\u001b[39mself\u001b[39m\u001b[39m.\u001b[39m_original_device, override_shots)(\u001b[39mself\u001b[39m\u001b[39m.\u001b[39m_update_gradient_fn)()\n\u001b[0;32m    799\u001b[0m \u001b[39m# construct the tape\u001b[39;00m\n\u001b[1;32m--> 800\u001b[0m \u001b[39mself\u001b[39;49m\u001b[39m.\u001b[39;49mconstruct(args, kwargs)\n\u001b[0;32m    802\u001b[0m cache \u001b[39m=\u001b[39m \u001b[39mself\u001b[39m\u001b[39m.\u001b[39mexecute_kwargs\u001b[39m.\u001b[39mget(\u001b[39m\"\u001b[39m\u001b[39mcache\u001b[39m\u001b[39m\"\u001b[39m, \u001b[39mFalse\u001b[39;00m)\n\u001b[0;32m    803\u001b[0m using_custom_cache \u001b[39m=\u001b[39m (\n\u001b[0;32m    804\u001b[0m     \u001b[39mhasattr\u001b[39m(cache, \u001b[39m\"\u001b[39m\u001b[39m__getitem__\u001b[39m\u001b[39m\"\u001b[39m)\n\u001b[0;32m    805\u001b[0m     \u001b[39mand\u001b[39;00m \u001b[39mhasattr\u001b[39m(cache, \u001b[39m\"\u001b[39m\u001b[39m__setitem__\u001b[39m\u001b[39m\"\u001b[39m)\n\u001b[0;32m    806\u001b[0m     \u001b[39mand\u001b[39;00m \u001b[39mhasattr\u001b[39m(cache, \u001b[39m\"\u001b[39m\u001b[39m__delitem__\u001b[39m\u001b[39m\"\u001b[39m)\n\u001b[0;32m    807\u001b[0m )\n",
      "File \u001b[1;32m~\\AppData\\Local\\Packages\\PythonSoftwareFoundation.Python.3.10_qbz5n2kfra8p0\\LocalCache\\local-packages\\Python310\\site-packages\\pennylane\\qnode.py:711\u001b[0m, in \u001b[0;36mQNode.construct\u001b[1;34m(self, args, kwargs)\u001b[0m\n\u001b[0;32m    708\u001b[0m \u001b[39mdef\u001b[39;00m \u001b[39mconstruct\u001b[39m(\u001b[39mself\u001b[39m, args, kwargs):\n\u001b[0;32m    709\u001b[0m     \u001b[39m\"\"\"Call the quantum function with a tape context, ensuring the operations get queued.\"\"\"\u001b[39;00m\n\u001b[1;32m--> 711\u001b[0m     \u001b[39mself\u001b[39m\u001b[39m.\u001b[39m_tape \u001b[39m=\u001b[39m make_qscript(\u001b[39mself\u001b[39m\u001b[39m.\u001b[39mfunc)(\u001b[39m*\u001b[39margs, \u001b[39m*\u001b[39m\u001b[39m*\u001b[39mkwargs)\n\u001b[0;32m    712\u001b[0m     \u001b[39mself\u001b[39m\u001b[39m.\u001b[39m_tape\u001b[39m.\u001b[39m_queue_category \u001b[39m=\u001b[39m \u001b[39m\"\u001b[39m\u001b[39m_ops\u001b[39m\u001b[39m\"\u001b[39m\n\u001b[0;32m    713\u001b[0m     \u001b[39mself\u001b[39m\u001b[39m.\u001b[39m_qfunc_output \u001b[39m=\u001b[39m \u001b[39mself\u001b[39m\u001b[39m.\u001b[39mtape\u001b[39m.\u001b[39m_qfunc_output\n",
      "File \u001b[1;32m~\\AppData\\Local\\Packages\\PythonSoftwareFoundation.Python.3.10_qbz5n2kfra8p0\\LocalCache\\local-packages\\Python310\\site-packages\\pennylane\\tape\\qscript.py:1346\u001b[0m, in \u001b[0;36mmake_qscript.<locals>.wrapper\u001b[1;34m(*args, **kwargs)\u001b[0m\n\u001b[0;32m   1344\u001b[0m \u001b[39mdef\u001b[39;00m \u001b[39mwrapper\u001b[39m(\u001b[39m*\u001b[39margs, \u001b[39m*\u001b[39m\u001b[39m*\u001b[39mkwargs):\n\u001b[0;32m   1345\u001b[0m     \u001b[39mwith\u001b[39;00m AnnotatedQueue() \u001b[39mas\u001b[39;00m q:\n\u001b[1;32m-> 1346\u001b[0m         result \u001b[39m=\u001b[39m fn(\u001b[39m*\u001b[39margs, \u001b[39m*\u001b[39m\u001b[39m*\u001b[39mkwargs)\n\u001b[0;32m   1348\u001b[0m     qscript \u001b[39m=\u001b[39m QuantumScript\u001b[39m.\u001b[39mfrom_queue(q)\n\u001b[0;32m   1349\u001b[0m     qscript\u001b[39m.\u001b[39m_qfunc_output \u001b[39m=\u001b[39m result\n",
      "Cell \u001b[1;32mIn [150], line 20\u001b[0m, in \u001b[0;36mcircuit\u001b[1;34m(U)\u001b[0m\n\u001b[0;32m     18\u001b[0m qml\u001b[39m.\u001b[39mHadamard(wires\u001b[39m=\u001b[39m\u001b[39m0\u001b[39m)\n\u001b[0;32m     19\u001b[0m qml\u001b[39m.\u001b[39mHadamard(wires\u001b[39m=\u001b[39m\u001b[39m1\u001b[39m)\n\u001b[1;32m---> 20\u001b[0m qml\u001b[39m.\u001b[39;49mctrl(op\u001b[39m=\u001b[39;49mU, control\u001b[39m=\u001b[39;49m\u001b[39m0\u001b[39;49m)(wires\u001b[39m=\u001b[39m\u001b[39m1\u001b[39m)\n\u001b[0;32m     21\u001b[0m \u001b[39m# return qml.state()   # set shots=None to suppress warnings when using this statement\u001b[39;00m\n\u001b[0;32m     22\u001b[0m \u001b[39mreturn\u001b[39;00m qml\u001b[39m.\u001b[39msample(wires\u001b[39m=\u001b[39m\u001b[39mrange\u001b[39m(\u001b[39m2\u001b[39m))\n",
      "File \u001b[1;32m~\\AppData\\Local\\Packages\\PythonSoftwareFoundation.Python.3.10_qbz5n2kfra8p0\\LocalCache\\local-packages\\Python310\\site-packages\\pennylane\\ops\\op_math\\control.py:82\u001b[0m, in \u001b[0;36mctrl\u001b[1;34m(op, control, control_values, work_wires)\u001b[0m\n\u001b[0;32m     79\u001b[0m control \u001b[39m=\u001b[39m qml\u001b[39m.\u001b[39mwires\u001b[39m.\u001b[39mWires(control)\n\u001b[0;32m     81\u001b[0m \u001b[39mif\u001b[39;00m \u001b[39misinstance\u001b[39m(op, Operator):\n\u001b[1;32m---> 82\u001b[0m     \u001b[39mreturn\u001b[39;00m Controlled(\n\u001b[0;32m     83\u001b[0m         op, control_wires\u001b[39m=\u001b[39;49mcontrol, control_values\u001b[39m=\u001b[39;49mcontrol_values, work_wires\u001b[39m=\u001b[39;49mwork_wires\n\u001b[0;32m     84\u001b[0m     )\n\u001b[0;32m     85\u001b[0m \u001b[39mif\u001b[39;00m \u001b[39mnot\u001b[39;00m callable(op):\n\u001b[0;32m     86\u001b[0m     \u001b[39mraise\u001b[39;00m \u001b[39mValueError\u001b[39;00m(\n\u001b[0;32m     87\u001b[0m         \u001b[39mf\u001b[39m\u001b[39m\"\u001b[39m\u001b[39mThe object \u001b[39m\u001b[39m{\u001b[39;00mop\u001b[39m}\u001b[39;00m\u001b[39m of type \u001b[39m\u001b[39m{\u001b[39;00m\u001b[39mtype\u001b[39m(op)\u001b[39m}\u001b[39;00m\u001b[39m is not an Operator or callable. \u001b[39m\u001b[39m\"\u001b[39m\n\u001b[0;32m     88\u001b[0m         \u001b[39m\"\u001b[39m\u001b[39mThis error might occur if you apply ctrl to a list \u001b[39m\u001b[39m\"\u001b[39m\n\u001b[0;32m     89\u001b[0m         \u001b[39m\"\u001b[39m\u001b[39mof operations instead of a function or Operator.\u001b[39m\u001b[39m\"\u001b[39m\n\u001b[0;32m     90\u001b[0m     )\n",
      "File \u001b[1;32m~\\AppData\\Local\\Packages\\PythonSoftwareFoundation.Python.3.10_qbz5n2kfra8p0\\LocalCache\\local-packages\\Python310\\site-packages\\pennylane\\ops\\op_math\\controlled_class.py:466\u001b[0m, in \u001b[0;36mControlledOp.__init__\u001b[1;34m(self, base, control_wires, control_values, work_wires, do_queue, id)\u001b[0m\n\u001b[0;32m    463\u001b[0m \u001b[39mdef\u001b[39;00m \u001b[39m__init__\u001b[39m(\n\u001b[0;32m    464\u001b[0m     \u001b[39mself\u001b[39m, base, control_wires, control_values\u001b[39m=\u001b[39m\u001b[39mNone\u001b[39;00m, work_wires\u001b[39m=\u001b[39m\u001b[39mNone\u001b[39;00m, do_queue\u001b[39m=\u001b[39m\u001b[39mTrue\u001b[39;00m, \u001b[39mid\u001b[39m\u001b[39m=\u001b[39m\u001b[39mNone\u001b[39;00m\n\u001b[0;32m    465\u001b[0m ):\n\u001b[1;32m--> 466\u001b[0m     \u001b[39msuper\u001b[39;49m()\u001b[39m.\u001b[39;49m\u001b[39m__init__\u001b[39;49m(base, control_wires, control_values, work_wires, do_queue, \u001b[39mid\u001b[39;49m)\n\u001b[0;32m    467\u001b[0m     \u001b[39m# check the grad_recipe validity\u001b[39;00m\n\u001b[0;32m    468\u001b[0m     \u001b[39mif\u001b[39;00m \u001b[39mself\u001b[39m\u001b[39m.\u001b[39mgrad_recipe \u001b[39mis\u001b[39;00m \u001b[39mNone\u001b[39;00m:\n\u001b[0;32m    469\u001b[0m         \u001b[39m# Make sure grad_recipe is an iterable of correct length instead of None\u001b[39;00m\n",
      "File \u001b[1;32m~\\AppData\\Local\\Packages\\PythonSoftwareFoundation.Python.3.10_qbz5n2kfra8p0\\LocalCache\\local-packages\\Python310\\site-packages\\pennylane\\ops\\op_math\\controlled_class.py:192\u001b[0m, in \u001b[0;36mControlled.__init__\u001b[1;34m(self, base, control_wires, control_values, work_wires, do_queue, id)\u001b[0m\n\u001b[0;32m    189\u001b[0m         \u001b[39mraise\u001b[39;00m \u001b[39mValueError\u001b[39;00m(\u001b[39m\"\u001b[39m\u001b[39mcontrol_values should be the same length as control_wires\u001b[39m\u001b[39m\"\u001b[39m)\n\u001b[0;32m    191\u001b[0m \u001b[39mif\u001b[39;00m \u001b[39mlen\u001b[39m(Wires\u001b[39m.\u001b[39mshared_wires([base\u001b[39m.\u001b[39mwires, control_wires])) \u001b[39m!=\u001b[39m \u001b[39m0\u001b[39m:\n\u001b[1;32m--> 192\u001b[0m     \u001b[39mraise\u001b[39;00m \u001b[39mValueError\u001b[39;00m(\u001b[39m\"\u001b[39m\u001b[39mThe control wires must be different from the base operation wires.\u001b[39m\u001b[39m\"\u001b[39m)\n\u001b[0;32m    194\u001b[0m \u001b[39mif\u001b[39;00m \u001b[39mlen\u001b[39m(Wires\u001b[39m.\u001b[39mshared_wires([work_wires, base\u001b[39m.\u001b[39mwires \u001b[39m+\u001b[39m control_wires])) \u001b[39m!=\u001b[39m \u001b[39m0\u001b[39m:\n\u001b[0;32m    195\u001b[0m     \u001b[39mraise\u001b[39;00m \u001b[39mValueError\u001b[39;00m(\n\u001b[0;32m    196\u001b[0m         \u001b[39m\"\u001b[39m\u001b[39mWork wires must be different the control_wires and base operation wires.\u001b[39m\u001b[39m\"\u001b[39m\n\u001b[0;32m    197\u001b[0m     )\n",
      "\u001b[1;31mValueError\u001b[0m: The control wires must be different from the base operation wires."
     ]
    }
   ],
   "source": [
    "th = 2*np.pi/3\n",
    "circuit(U=qml.ctrl(op=qml.RY(th, wires=1), control=0))"
   ]
  },
  {
   "cell_type": "code",
   "execution_count": 233,
   "metadata": {},
   "outputs": [
    {
     "ename": "ValueError",
     "evalue": "The control wires must be different from the base operation wires.",
     "output_type": "error",
     "traceback": [
      "\u001b[1;31m---------------------------------------------------------------------------\u001b[0m",
      "\u001b[1;31mValueError\u001b[0m                                Traceback (most recent call last)",
      "Cell \u001b[1;32mIn [233], line 1\u001b[0m\n\u001b[1;32m----> 1\u001b[0m qml\u001b[39m.\u001b[39mdraw_mpl(circuit)(U\u001b[39m=\u001b[39mqml\u001b[39m.\u001b[39mctrl(qml\u001b[39m.\u001b[39mRY(\u001b[39m2\u001b[39m\u001b[39m*\u001b[39mnp\u001b[39m.\u001b[39mpi\u001b[39m/\u001b[39m\u001b[39m3\u001b[39m, wires\u001b[39m=\u001b[39m\u001b[39m1\u001b[39m), control\u001b[39m=\u001b[39m[\u001b[39m0\u001b[39m]))\n",
      "File \u001b[1;32m~\\AppData\\Local\\Packages\\PythonSoftwareFoundation.Python.3.10_qbz5n2kfra8p0\\LocalCache\\local-packages\\Python310\\site-packages\\pennylane\\drawer\\draw.py:440\u001b[0m, in \u001b[0;36mdraw_mpl.<locals>.wrapper\u001b[1;34m(*args, **kwargs_qnode)\u001b[0m\n\u001b[0;32m    438\u001b[0m \u001b[39mtry\u001b[39;00m:\n\u001b[0;32m    439\u001b[0m     qnode\u001b[39m.\u001b[39mexpansion_strategy \u001b[39m=\u001b[39m expansion_strategy \u001b[39mor\u001b[39;00m original_expansion_strategy\n\u001b[1;32m--> 440\u001b[0m     qnode\u001b[39m.\u001b[39;49mconstruct(args, kwargs_qnode)\n\u001b[0;32m    441\u001b[0m \u001b[39mfinally\u001b[39;00m:\n\u001b[0;32m    442\u001b[0m     qnode\u001b[39m.\u001b[39mexpansion_strategy \u001b[39m=\u001b[39m original_expansion_strategy\n",
      "File \u001b[1;32m~\\AppData\\Local\\Packages\\PythonSoftwareFoundation.Python.3.10_qbz5n2kfra8p0\\LocalCache\\local-packages\\Python310\\site-packages\\pennylane\\qnode.py:711\u001b[0m, in \u001b[0;36mQNode.construct\u001b[1;34m(self, args, kwargs)\u001b[0m\n\u001b[0;32m    708\u001b[0m \u001b[39mdef\u001b[39;00m \u001b[39mconstruct\u001b[39m(\u001b[39mself\u001b[39m, args, kwargs):\n\u001b[0;32m    709\u001b[0m     \u001b[39m\"\"\"Call the quantum function with a tape context, ensuring the operations get queued.\"\"\"\u001b[39;00m\n\u001b[1;32m--> 711\u001b[0m     \u001b[39mself\u001b[39m\u001b[39m.\u001b[39m_tape \u001b[39m=\u001b[39m make_qscript(\u001b[39mself\u001b[39m\u001b[39m.\u001b[39mfunc)(\u001b[39m*\u001b[39margs, \u001b[39m*\u001b[39m\u001b[39m*\u001b[39mkwargs)\n\u001b[0;32m    712\u001b[0m     \u001b[39mself\u001b[39m\u001b[39m.\u001b[39m_tape\u001b[39m.\u001b[39m_queue_category \u001b[39m=\u001b[39m \u001b[39m\"\u001b[39m\u001b[39m_ops\u001b[39m\u001b[39m\"\u001b[39m\n\u001b[0;32m    713\u001b[0m     \u001b[39mself\u001b[39m\u001b[39m.\u001b[39m_qfunc_output \u001b[39m=\u001b[39m \u001b[39mself\u001b[39m\u001b[39m.\u001b[39mtape\u001b[39m.\u001b[39m_qfunc_output\n",
      "File \u001b[1;32m~\\AppData\\Local\\Packages\\PythonSoftwareFoundation.Python.3.10_qbz5n2kfra8p0\\LocalCache\\local-packages\\Python310\\site-packages\\pennylane\\tape\\qscript.py:1346\u001b[0m, in \u001b[0;36mmake_qscript.<locals>.wrapper\u001b[1;34m(*args, **kwargs)\u001b[0m\n\u001b[0;32m   1344\u001b[0m \u001b[39mdef\u001b[39;00m \u001b[39mwrapper\u001b[39m(\u001b[39m*\u001b[39margs, \u001b[39m*\u001b[39m\u001b[39m*\u001b[39mkwargs):\n\u001b[0;32m   1345\u001b[0m     \u001b[39mwith\u001b[39;00m AnnotatedQueue() \u001b[39mas\u001b[39;00m q:\n\u001b[1;32m-> 1346\u001b[0m         result \u001b[39m=\u001b[39m fn(\u001b[39m*\u001b[39margs, \u001b[39m*\u001b[39m\u001b[39m*\u001b[39mkwargs)\n\u001b[0;32m   1348\u001b[0m     qscript \u001b[39m=\u001b[39m QuantumScript\u001b[39m.\u001b[39mfrom_queue(q)\n\u001b[0;32m   1349\u001b[0m     qscript\u001b[39m.\u001b[39m_qfunc_output \u001b[39m=\u001b[39m result\n",
      "Cell \u001b[1;32mIn [150], line 20\u001b[0m, in \u001b[0;36mcircuit\u001b[1;34m(U)\u001b[0m\n\u001b[0;32m     18\u001b[0m qml\u001b[39m.\u001b[39mHadamard(wires\u001b[39m=\u001b[39m\u001b[39m0\u001b[39m)\n\u001b[0;32m     19\u001b[0m qml\u001b[39m.\u001b[39mHadamard(wires\u001b[39m=\u001b[39m\u001b[39m1\u001b[39m)\n\u001b[1;32m---> 20\u001b[0m qml\u001b[39m.\u001b[39;49mctrl(op\u001b[39m=\u001b[39;49mU, control\u001b[39m=\u001b[39;49m\u001b[39m0\u001b[39;49m)(wires\u001b[39m=\u001b[39m\u001b[39m1\u001b[39m)\n\u001b[0;32m     21\u001b[0m \u001b[39m# return qml.state()   # set shots=None to suppress warnings when using this statement\u001b[39;00m\n\u001b[0;32m     22\u001b[0m \u001b[39mreturn\u001b[39;00m qml\u001b[39m.\u001b[39msample(wires\u001b[39m=\u001b[39m\u001b[39mrange\u001b[39m(\u001b[39m2\u001b[39m))\n",
      "File \u001b[1;32m~\\AppData\\Local\\Packages\\PythonSoftwareFoundation.Python.3.10_qbz5n2kfra8p0\\LocalCache\\local-packages\\Python310\\site-packages\\pennylane\\ops\\op_math\\control.py:82\u001b[0m, in \u001b[0;36mctrl\u001b[1;34m(op, control, control_values, work_wires)\u001b[0m\n\u001b[0;32m     79\u001b[0m control \u001b[39m=\u001b[39m qml\u001b[39m.\u001b[39mwires\u001b[39m.\u001b[39mWires(control)\n\u001b[0;32m     81\u001b[0m \u001b[39mif\u001b[39;00m \u001b[39misinstance\u001b[39m(op, Operator):\n\u001b[1;32m---> 82\u001b[0m     \u001b[39mreturn\u001b[39;00m Controlled(\n\u001b[0;32m     83\u001b[0m         op, control_wires\u001b[39m=\u001b[39;49mcontrol, control_values\u001b[39m=\u001b[39;49mcontrol_values, work_wires\u001b[39m=\u001b[39;49mwork_wires\n\u001b[0;32m     84\u001b[0m     )\n\u001b[0;32m     85\u001b[0m \u001b[39mif\u001b[39;00m \u001b[39mnot\u001b[39;00m callable(op):\n\u001b[0;32m     86\u001b[0m     \u001b[39mraise\u001b[39;00m \u001b[39mValueError\u001b[39;00m(\n\u001b[0;32m     87\u001b[0m         \u001b[39mf\u001b[39m\u001b[39m\"\u001b[39m\u001b[39mThe object \u001b[39m\u001b[39m{\u001b[39;00mop\u001b[39m}\u001b[39;00m\u001b[39m of type \u001b[39m\u001b[39m{\u001b[39;00m\u001b[39mtype\u001b[39m(op)\u001b[39m}\u001b[39;00m\u001b[39m is not an Operator or callable. \u001b[39m\u001b[39m\"\u001b[39m\n\u001b[0;32m     88\u001b[0m         \u001b[39m\"\u001b[39m\u001b[39mThis error might occur if you apply ctrl to a list \u001b[39m\u001b[39m\"\u001b[39m\n\u001b[0;32m     89\u001b[0m         \u001b[39m\"\u001b[39m\u001b[39mof operations instead of a function or Operator.\u001b[39m\u001b[39m\"\u001b[39m\n\u001b[0;32m     90\u001b[0m     )\n",
      "File \u001b[1;32m~\\AppData\\Local\\Packages\\PythonSoftwareFoundation.Python.3.10_qbz5n2kfra8p0\\LocalCache\\local-packages\\Python310\\site-packages\\pennylane\\ops\\op_math\\controlled_class.py:466\u001b[0m, in \u001b[0;36mControlledOp.__init__\u001b[1;34m(self, base, control_wires, control_values, work_wires, do_queue, id)\u001b[0m\n\u001b[0;32m    463\u001b[0m \u001b[39mdef\u001b[39;00m \u001b[39m__init__\u001b[39m(\n\u001b[0;32m    464\u001b[0m     \u001b[39mself\u001b[39m, base, control_wires, control_values\u001b[39m=\u001b[39m\u001b[39mNone\u001b[39;00m, work_wires\u001b[39m=\u001b[39m\u001b[39mNone\u001b[39;00m, do_queue\u001b[39m=\u001b[39m\u001b[39mTrue\u001b[39;00m, \u001b[39mid\u001b[39m\u001b[39m=\u001b[39m\u001b[39mNone\u001b[39;00m\n\u001b[0;32m    465\u001b[0m ):\n\u001b[1;32m--> 466\u001b[0m     \u001b[39msuper\u001b[39;49m()\u001b[39m.\u001b[39;49m\u001b[39m__init__\u001b[39;49m(base, control_wires, control_values, work_wires, do_queue, \u001b[39mid\u001b[39;49m)\n\u001b[0;32m    467\u001b[0m     \u001b[39m# check the grad_recipe validity\u001b[39;00m\n\u001b[0;32m    468\u001b[0m     \u001b[39mif\u001b[39;00m \u001b[39mself\u001b[39m\u001b[39m.\u001b[39mgrad_recipe \u001b[39mis\u001b[39;00m \u001b[39mNone\u001b[39;00m:\n\u001b[0;32m    469\u001b[0m         \u001b[39m# Make sure grad_recipe is an iterable of correct length instead of None\u001b[39;00m\n",
      "File \u001b[1;32m~\\AppData\\Local\\Packages\\PythonSoftwareFoundation.Python.3.10_qbz5n2kfra8p0\\LocalCache\\local-packages\\Python310\\site-packages\\pennylane\\ops\\op_math\\controlled_class.py:192\u001b[0m, in \u001b[0;36mControlled.__init__\u001b[1;34m(self, base, control_wires, control_values, work_wires, do_queue, id)\u001b[0m\n\u001b[0;32m    189\u001b[0m         \u001b[39mraise\u001b[39;00m \u001b[39mValueError\u001b[39;00m(\u001b[39m\"\u001b[39m\u001b[39mcontrol_values should be the same length as control_wires\u001b[39m\u001b[39m\"\u001b[39m)\n\u001b[0;32m    191\u001b[0m \u001b[39mif\u001b[39;00m \u001b[39mlen\u001b[39m(Wires\u001b[39m.\u001b[39mshared_wires([base\u001b[39m.\u001b[39mwires, control_wires])) \u001b[39m!=\u001b[39m \u001b[39m0\u001b[39m:\n\u001b[1;32m--> 192\u001b[0m     \u001b[39mraise\u001b[39;00m \u001b[39mValueError\u001b[39;00m(\u001b[39m\"\u001b[39m\u001b[39mThe control wires must be different from the base operation wires.\u001b[39m\u001b[39m\"\u001b[39m)\n\u001b[0;32m    194\u001b[0m \u001b[39mif\u001b[39;00m \u001b[39mlen\u001b[39m(Wires\u001b[39m.\u001b[39mshared_wires([work_wires, base\u001b[39m.\u001b[39mwires \u001b[39m+\u001b[39m control_wires])) \u001b[39m!=\u001b[39m \u001b[39m0\u001b[39m:\n\u001b[0;32m    195\u001b[0m     \u001b[39mraise\u001b[39;00m \u001b[39mValueError\u001b[39;00m(\n\u001b[0;32m    196\u001b[0m         \u001b[39m\"\u001b[39m\u001b[39mWork wires must be different the control_wires and base operation wires.\u001b[39m\u001b[39m\"\u001b[39m\n\u001b[0;32m    197\u001b[0m     )\n",
      "\u001b[1;31mValueError\u001b[0m: The control wires must be different from the base operation wires."
     ]
    }
   ],
   "source": [
    "th = 2*np.pi/3\n",
    "qml.draw_mpl(circuit())"
   ]
  },
  {
   "cell_type": "code",
   "execution_count": 173,
   "metadata": {},
   "outputs": [
    {
     "ename": "ValueError",
     "evalue": "The object cry of type <class 'str'> is not an Operator or callable. This error might occur if you apply ctrl to a list of operations instead of a function or Operator.",
     "output_type": "error",
     "traceback": [
      "\u001b[1;31m---------------------------------------------------------------------------\u001b[0m",
      "\u001b[1;31mValueError\u001b[0m                                Traceback (most recent call last)",
      "Cell \u001b[1;32mIn [173], line 1\u001b[0m\n\u001b[1;32m----> 1\u001b[0m m \u001b[39m=\u001b[39m circuit(U\u001b[39m=\u001b[39m\u001b[39m'\u001b[39m\u001b[39mcry\u001b[39m\u001b[39m'\u001b[39m)\n\u001b[0;32m      2\u001b[0m process_measurement(m)\n",
      "File \u001b[1;32m~\\AppData\\Local\\Packages\\PythonSoftwareFoundation.Python.3.10_qbz5n2kfra8p0\\LocalCache\\local-packages\\Python310\\site-packages\\pennylane\\qnode.py:800\u001b[0m, in \u001b[0;36mQNode.__call__\u001b[1;34m(self, *args, **kwargs)\u001b[0m\n\u001b[0;32m    797\u001b[0m         set_shots(\u001b[39mself\u001b[39m\u001b[39m.\u001b[39m_original_device, override_shots)(\u001b[39mself\u001b[39m\u001b[39m.\u001b[39m_update_gradient_fn)()\n\u001b[0;32m    799\u001b[0m \u001b[39m# construct the tape\u001b[39;00m\n\u001b[1;32m--> 800\u001b[0m \u001b[39mself\u001b[39;49m\u001b[39m.\u001b[39;49mconstruct(args, kwargs)\n\u001b[0;32m    802\u001b[0m cache \u001b[39m=\u001b[39m \u001b[39mself\u001b[39m\u001b[39m.\u001b[39mexecute_kwargs\u001b[39m.\u001b[39mget(\u001b[39m\"\u001b[39m\u001b[39mcache\u001b[39m\u001b[39m\"\u001b[39m, \u001b[39mFalse\u001b[39;00m)\n\u001b[0;32m    803\u001b[0m using_custom_cache \u001b[39m=\u001b[39m (\n\u001b[0;32m    804\u001b[0m     \u001b[39mhasattr\u001b[39m(cache, \u001b[39m\"\u001b[39m\u001b[39m__getitem__\u001b[39m\u001b[39m\"\u001b[39m)\n\u001b[0;32m    805\u001b[0m     \u001b[39mand\u001b[39;00m \u001b[39mhasattr\u001b[39m(cache, \u001b[39m\"\u001b[39m\u001b[39m__setitem__\u001b[39m\u001b[39m\"\u001b[39m)\n\u001b[0;32m    806\u001b[0m     \u001b[39mand\u001b[39;00m \u001b[39mhasattr\u001b[39m(cache, \u001b[39m\"\u001b[39m\u001b[39m__delitem__\u001b[39m\u001b[39m\"\u001b[39m)\n\u001b[0;32m    807\u001b[0m )\n",
      "File \u001b[1;32m~\\AppData\\Local\\Packages\\PythonSoftwareFoundation.Python.3.10_qbz5n2kfra8p0\\LocalCache\\local-packages\\Python310\\site-packages\\pennylane\\qnode.py:711\u001b[0m, in \u001b[0;36mQNode.construct\u001b[1;34m(self, args, kwargs)\u001b[0m\n\u001b[0;32m    708\u001b[0m \u001b[39mdef\u001b[39;00m \u001b[39mconstruct\u001b[39m(\u001b[39mself\u001b[39m, args, kwargs):\n\u001b[0;32m    709\u001b[0m     \u001b[39m\"\"\"Call the quantum function with a tape context, ensuring the operations get queued.\"\"\"\u001b[39;00m\n\u001b[1;32m--> 711\u001b[0m     \u001b[39mself\u001b[39m\u001b[39m.\u001b[39m_tape \u001b[39m=\u001b[39m make_qscript(\u001b[39mself\u001b[39m\u001b[39m.\u001b[39mfunc)(\u001b[39m*\u001b[39margs, \u001b[39m*\u001b[39m\u001b[39m*\u001b[39mkwargs)\n\u001b[0;32m    712\u001b[0m     \u001b[39mself\u001b[39m\u001b[39m.\u001b[39m_tape\u001b[39m.\u001b[39m_queue_category \u001b[39m=\u001b[39m \u001b[39m\"\u001b[39m\u001b[39m_ops\u001b[39m\u001b[39m\"\u001b[39m\n\u001b[0;32m    713\u001b[0m     \u001b[39mself\u001b[39m\u001b[39m.\u001b[39m_qfunc_output \u001b[39m=\u001b[39m \u001b[39mself\u001b[39m\u001b[39m.\u001b[39mtape\u001b[39m.\u001b[39m_qfunc_output\n",
      "File \u001b[1;32m~\\AppData\\Local\\Packages\\PythonSoftwareFoundation.Python.3.10_qbz5n2kfra8p0\\LocalCache\\local-packages\\Python310\\site-packages\\pennylane\\tape\\qscript.py:1346\u001b[0m, in \u001b[0;36mmake_qscript.<locals>.wrapper\u001b[1;34m(*args, **kwargs)\u001b[0m\n\u001b[0;32m   1344\u001b[0m \u001b[39mdef\u001b[39;00m \u001b[39mwrapper\u001b[39m(\u001b[39m*\u001b[39margs, \u001b[39m*\u001b[39m\u001b[39m*\u001b[39mkwargs):\n\u001b[0;32m   1345\u001b[0m     \u001b[39mwith\u001b[39;00m AnnotatedQueue() \u001b[39mas\u001b[39;00m q:\n\u001b[1;32m-> 1346\u001b[0m         result \u001b[39m=\u001b[39m fn(\u001b[39m*\u001b[39margs, \u001b[39m*\u001b[39m\u001b[39m*\u001b[39mkwargs)\n\u001b[0;32m   1348\u001b[0m     qscript \u001b[39m=\u001b[39m QuantumScript\u001b[39m.\u001b[39mfrom_queue(q)\n\u001b[0;32m   1349\u001b[0m     qscript\u001b[39m.\u001b[39m_qfunc_output \u001b[39m=\u001b[39m result\n",
      "Cell \u001b[1;32mIn [150], line 20\u001b[0m, in \u001b[0;36mcircuit\u001b[1;34m(U)\u001b[0m\n\u001b[0;32m     18\u001b[0m qml\u001b[39m.\u001b[39mHadamard(wires\u001b[39m=\u001b[39m\u001b[39m0\u001b[39m)\n\u001b[0;32m     19\u001b[0m qml\u001b[39m.\u001b[39mHadamard(wires\u001b[39m=\u001b[39m\u001b[39m1\u001b[39m)\n\u001b[1;32m---> 20\u001b[0m qml\u001b[39m.\u001b[39;49mctrl(op\u001b[39m=\u001b[39;49mU, control\u001b[39m=\u001b[39;49m\u001b[39m0\u001b[39;49m)(wires\u001b[39m=\u001b[39m\u001b[39m1\u001b[39m)\n\u001b[0;32m     21\u001b[0m \u001b[39m# return qml.state()   # set shots=None to suppress warnings when using this statement\u001b[39;00m\n\u001b[0;32m     22\u001b[0m \u001b[39mreturn\u001b[39;00m qml\u001b[39m.\u001b[39msample(wires\u001b[39m=\u001b[39m\u001b[39mrange\u001b[39m(\u001b[39m2\u001b[39m))\n",
      "File \u001b[1;32m~\\AppData\\Local\\Packages\\PythonSoftwareFoundation.Python.3.10_qbz5n2kfra8p0\\LocalCache\\local-packages\\Python310\\site-packages\\pennylane\\ops\\op_math\\control.py:86\u001b[0m, in \u001b[0;36mctrl\u001b[1;34m(op, control, control_values, work_wires)\u001b[0m\n\u001b[0;32m     82\u001b[0m     \u001b[39mreturn\u001b[39;00m Controlled(\n\u001b[0;32m     83\u001b[0m         op, control_wires\u001b[39m=\u001b[39mcontrol, control_values\u001b[39m=\u001b[39mcontrol_values, work_wires\u001b[39m=\u001b[39mwork_wires\n\u001b[0;32m     84\u001b[0m     )\n\u001b[0;32m     85\u001b[0m \u001b[39mif\u001b[39;00m \u001b[39mnot\u001b[39;00m callable(op):\n\u001b[1;32m---> 86\u001b[0m     \u001b[39mraise\u001b[39;00m \u001b[39mValueError\u001b[39;00m(\n\u001b[0;32m     87\u001b[0m         \u001b[39mf\u001b[39m\u001b[39m\"\u001b[39m\u001b[39mThe object \u001b[39m\u001b[39m{\u001b[39;00mop\u001b[39m}\u001b[39;00m\u001b[39m of type \u001b[39m\u001b[39m{\u001b[39;00m\u001b[39mtype\u001b[39m(op)\u001b[39m}\u001b[39;00m\u001b[39m is not an Operator or callable. \u001b[39m\u001b[39m\"\u001b[39m\n\u001b[0;32m     88\u001b[0m         \u001b[39m\"\u001b[39m\u001b[39mThis error might occur if you apply ctrl to a list \u001b[39m\u001b[39m\"\u001b[39m\n\u001b[0;32m     89\u001b[0m         \u001b[39m\"\u001b[39m\u001b[39mof operations instead of a function or Operator.\u001b[39m\u001b[39m\"\u001b[39m\n\u001b[0;32m     90\u001b[0m     )\n\u001b[0;32m     92\u001b[0m \u001b[39m@wraps\u001b[39m(op)\n\u001b[0;32m     93\u001b[0m \u001b[39mdef\u001b[39;00m \u001b[39mwrapper\u001b[39m(\u001b[39m*\u001b[39margs, \u001b[39m*\u001b[39m\u001b[39m*\u001b[39mkwargs):\n\u001b[0;32m     94\u001b[0m     qscript \u001b[39m=\u001b[39m qml\u001b[39m.\u001b[39mtape\u001b[39m.\u001b[39mmake_qscript(op)(\u001b[39m*\u001b[39margs, \u001b[39m*\u001b[39m\u001b[39m*\u001b[39mkwargs)\n",
      "\u001b[1;31mValueError\u001b[0m: The object cry of type <class 'str'> is not an Operator or callable. This error might occur if you apply ctrl to a list of operations instead of a function or Operator."
     ]
    }
   ],
   "source": [
    "m = circuit(U='cry')\n",
    "process_measurement(m)"
   ]
  },
  {
   "cell_type": "code",
   "execution_count": null,
   "metadata": {},
   "outputs": [],
   "source": []
  },
  {
   "cell_type": "code",
   "execution_count": null,
   "metadata": {},
   "outputs": [],
   "source": []
  },
  {
   "cell_type": "code",
   "execution_count": 151,
   "metadata": {},
   "outputs": [],
   "source": [
    "# circuit(4*np.pi/3)"
   ]
  },
  {
   "cell_type": "code",
   "execution_count": 152,
   "metadata": {},
   "outputs": [],
   "source": [
    "# circuit(2*np.pi/3) == circuit(4*np.pi/3)"
   ]
  },
  {
   "cell_type": "code",
   "execution_count": 75,
   "metadata": {},
   "outputs": [
    {
     "name": "stdout",
     "output_type": "stream",
     "text": [
      "[1 0]\n",
      "[1 0]\n",
      "[1 0]\n",
      "[1 1]\n",
      "[1 1]\n",
      "[1 1]\n",
      "[1 1]\n",
      "[1 1]\n",
      "[1 1]\n",
      "[1 0]\n"
     ]
    }
   ],
   "source": [
    "# for _ in range(10):\n",
    "#     print(circuit(4*np.pi/3))"
   ]
  },
  {
   "cell_type": "code",
   "execution_count": 148,
   "metadata": {},
   "outputs": [
    {
     "name": "stdout",
     "output_type": "stream",
     "text": [
      "2 4 4 2 2 2 2 2 2 2 4 2 2 None 4 None 2 4 2 2 2 2 2 None 4 4 4 2 None 4 2 4 None 2 4 2 4 2 2 2 2 4 2 4 2 None None 4 None None None 4 None 2 2 None 2 4 None 2 2 None 2 2 2 2 2 4 None 4 2 2 2 2 2 None 4 4 2 2 2 None None None None 2 2 None None None 2 4 None 2 2 2 2 2 4 4 "
     ]
    }
   ],
   "source": [
    "m = circuit(2*np.pi/3)\n",
    "\n",
    "for _ in range(100):\n",
    "    print(process_measurement(m), end=' ')"
   ]
  },
  {
   "cell_type": "code",
   "execution_count": 149,
   "metadata": {},
   "outputs": [
    {
     "name": "stdout",
     "output_type": "stream",
     "text": [
      "2 None 2 2 4 None 2 None None None None None 4 4 None None 4 2 None None 2 None None 2 None None 2 None None None None 4 None None 2 None None None None None None None None 4 4 None None None 2 None 2 None None None 4 None None None 4 4 None 4 4 None None None None 2 None None None None None None None 4 None 2 None None 4 2 None None None None 4 None None None None None None None 4 None None None 2 None "
     ]
    }
   ],
   "source": [
    "m1 = circuit(4*np.pi/3)\n",
    "\n",
    "for _ in range(100):\n",
    "    print(process_measurement(m1), end=' ')"
   ]
  },
  {
   "attachments": {},
   "cell_type": "markdown",
   "metadata": {},
   "source": [
    "### QHack Challenge - AND Gate"
   ]
  },
  {
   "cell_type": "code",
   "execution_count": 207,
   "metadata": {},
   "outputs": [],
   "source": [
    "d = qml.device('default.qubit', wires=3, shots=1)\n",
    "@qml.qnode(device=d)\n",
    "def test():\n",
    "    qml.Hadamard(wires=0)\n",
    "    qml.Hadamard(wires=1)\n",
    "    qml.Hadamard(wires=2)\n",
    "    qml.CCZ(wires=[0,1,2])\n",
    "    qml.Hadamard(wires=0)\n",
    "    qml.Hadamard(wires=1)\n",
    "    qml.Hadamard(wires=2)\n",
    "    return qml.sample(wires=[0,1,2])"
   ]
  },
  {
   "cell_type": "code",
   "execution_count": 208,
   "metadata": {},
   "outputs": [
    {
     "data": {
      "text/plain": [
       "(<Figure size 600x400 with 1 Axes>, <Axes: >)"
      ]
     },
     "execution_count": 208,
     "metadata": {},
     "output_type": "execute_result"
    },
    {
     "data": {
      "image/png": "[encoded data removed]",
      "text/plain": [
       "<Figure size 600x400 with 1 Axes>"
      ]
     },
     "metadata": {},
     "output_type": "display_data"
    }
   ],
   "source": [
    "qml.draw_mpl(test)()"
   ]
  },
  {
   "cell_type": "code",
   "execution_count": 224,
   "metadata": {},
   "outputs": [
    {
     "name": "stdout",
     "output_type": "stream",
     "text": [
      "0\n",
      "0\n",
      "0\n"
     ]
    }
   ],
   "source": [
    "m = test()\n",
    "for i in range(len(m)):\n",
    "    print(m[i])"
   ]
  },
  {
   "cell_type": "code",
   "execution_count": 239,
   "metadata": {},
   "outputs": [],
   "source": [
    "dev2 = qml.device(\"default.qubit\", wires=3)\n",
    "\n",
    "@qml.qnode(dev2)\n",
    "def AND(j : int, k : int) -> list:\n",
    "    \"\"\"Implements the AND gate using quantum gates and computes j AND k.\n",
    "\n",
    "    Args:\n",
    "        j (int): A classical bit, either 0 or 1. \n",
    "        k (int): A classical bit, either 0 or 1. \n",
    "\n",
    "    Returns:\n",
    "        float: The probabilities of measurement on wire 0.\n",
    "    \"\"\"\n",
    "\n",
    "    if j == 1:\n",
    "        qml.PauliX(wires=1)\n",
    "    if k == 1:\n",
    "        qml.PauliX(wires=2)\n",
    "\n",
    "    # code here...\n",
    "    qml.Hadamard(wires=0)\n",
    "\n",
    "    qml.ctrl(qml.PauliZ, control =[1, 2])(wires = [0]) # This is not how it is allowed in the actual challenge. There, the controls have to be qubit0 and qubit1 and target qubit2\n",
    "\n",
    "    # code here...\n",
    "    qml.Hadamard(wires=0)\n",
    "    \n",
    "    return qml.probs(wires=0)    "
   ]
  },
  {
   "cell_type": "code",
   "execution_count": 243,
   "metadata": {},
   "outputs": [
    {
     "data": {
      "text/plain": [
       "tensor([0., 1.], requires_grad=True)"
      ]
     },
     "execution_count": 243,
     "metadata": {},
     "output_type": "execute_result"
    }
   ],
   "source": [
    "AND(1,1)"
   ]
  },
  {
   "cell_type": "code",
   "execution_count": 245,
   "metadata": {},
   "outputs": [
    {
     "data": {
      "text/plain": [
       "(<Figure size 600x400 with 1 Axes>, <Axes: >)"
      ]
     },
     "execution_count": 245,
     "metadata": {},
     "output_type": "execute_result"
    },
    {
     "data": {
      "image/png": "[encoded data removed]",
      "text/plain": [
       "<Figure size 600x400 with 1 Axes>"
      ]
     },
     "metadata": {},
     "output_type": "display_data"
    }
   ],
   "source": [
    "qml.draw_mpl(qnode=AND)(1,0)"
   ]
  },
  {
   "cell_type": "code",
   "execution_count": 270,
   "metadata": {},
   "outputs": [],
   "source": [
    "@qml.qnode(device=dev2)\n",
    "def and_test(j,k):   # This is what I gave in the submission. But, the previous AND function also works just as well! \n",
    "    if j == 1:\n",
    "        qml.PauliX(wires=1)\n",
    "    if k == 1:\n",
    "        qml.PauliX(wires=2)\n",
    "\n",
    "    qml.Hadamard(wires=0)\n",
    "    # qml.CCZ(wires=[0,1,2])\n",
    "    qml.ctrl(qml.PauliZ, control=[0,1])(wires=2)\n",
    "    # m = qml.measure(wires=2)\n",
    "    # if m == 0:\n",
    "    #     print(\"3rd qubit is in the |0> state.\")\n",
    "    # else:\n",
    "    #     print(\"3rd qubit is not in the |0> state.\")\n",
    "    if (j and k == 1):\n",
    "        qml.PauliX(wires=2)\n",
    "    qml.ctrl(qml.PauliZ, control=[1,2])(wires=0)\n",
    "    qml.Hadamard(wires=0)\n",
    "    return qml.probs(wires=0)"
   ]
  },
  {
   "cell_type": "code",
   "execution_count": 276,
   "metadata": {},
   "outputs": [
    {
     "data": {
      "text/plain": [
       "tensor([0., 1.], requires_grad=True)"
      ]
     },
     "execution_count": 276,
     "metadata": {},
     "output_type": "execute_result"
    }
   ],
   "source": [
    "and_test(1,1)"
   ]
  },
  {
   "cell_type": "code",
   "execution_count": 277,
   "metadata": {},
   "outputs": [
    {
     "data": {
      "text/plain": [
       "(<Figure size 800x400 with 1 Axes>, <Axes: >)"
      ]
     },
     "execution_count": 277,
     "metadata": {},
     "output_type": "execute_result"
    },
    {
     "data": {
      "image/png": "[encoded data removed]",
      "text/plain": [
       "<Figure size 800x400 with 1 Axes>"
      ]
     },
     "metadata": {},
     "output_type": "display_data"
    }
   ],
   "source": [
    "qml.draw_mpl(and_test)(1,1)"
   ]
  },
  {
   "attachments": {},
   "cell_type": "markdown",
   "metadata": {},
   "source": [
    "### QHack Challenge - "
   ]
  },
  {
   "cell_type": "code",
   "execution_count": null,
   "metadata": {},
   "outputs": [],
   "source": []
  }
 ],
 "metadata": {
  "kernelspec": {
   "display_name": "Python 3",
   "language": "python",
   "name": "python3"
  },
  "language_info": {
   "codemirror_mode": {
    "name": "ipython",
    "version": 3
   },
   "file_extension": ".py",
   "mimetype": "text/x-python",
   "name": "python",
   "nbconvert_exporter": "python",
   "pygments_lexer": "ipython3",
   "version": "3.10.10"
  },
  "orig_nbformat": 4,
  "vscode": {
   "interpreter": {
    "hash": "e1425da5446126f387a0a91d58cd488eb6c8da386ecf3da09dc869303a65696c"
   }
  }
 },
 "nbformat": 4,
 "nbformat_minor": 2
}
