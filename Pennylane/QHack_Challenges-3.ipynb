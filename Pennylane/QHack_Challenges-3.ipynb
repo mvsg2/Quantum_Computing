{
 "cells": [
  {
   "cell_type": "code",
   "execution_count": 2,
   "id": "5e9b0f84-36ef-49bb-9efa-d5e9caa08ad5",
   "metadata": {},
   "outputs": [],
   "source": [
    "import pennylane as qml\n",
    "from pennylane import numpy as np"
   ]
  },
  {
   "cell_type": "code",
   "execution_count": 3,
   "id": "db757a17-ffda-4695-957e-f7af6f8880ce",
   "metadata": {},
   "outputs": [],
   "source": [
    "dev = qml.device(\"default.qubit\", wires=3)\n",
    "\n",
    "@qml.qnode(dev)\n",
    "def model(alpha):\n",
    "    \"\"\"In this qnode you will define your model in such a way that there is a single \n",
    "    parameter alpha which returns each of the basic states.\n",
    "\n",
    "    Args:\n",
    "        alpha (float): The only parameter of the model.\n",
    "\n",
    "    Returns:\n",
    "        (numpy.tensor): The probability vector of the resulting quantum state.\n",
    "    \"\"\"\n",
    "    # Put your code here #\n",
    "    qml.BasisEmbedding(alpha, wires=range(3))\n",
    "    return qml.probs(wires=range(3))\n",
    "\n",
    "def generate_coefficients():\n",
    "    \"\"\"This function must return a list of 8 different values of the parameter that\n",
    "    generate the states 000, 001, 010, ..., 111, respectively, with your ansatz.\n",
    "\n",
    "    Returns:\n",
    "        (list(int)): A list of eight real numbers.\n",
    "    \"\"\"\n",
    "    # Put your code here #\n",
    "    param_vals = []\n",
    "    for i in range(8):\n",
    "        probs_i = model(i)\n",
    "        if probs_i[i] == 1.0:\n",
    "            param_vals.append(i)\n",
    "    return param_vals"
   ]
  },
  {
   "cell_type": "code",
   "execution_count": 4,
   "id": "c8edbab1-aa1b-4fea-aaca-e953384cdbce",
   "metadata": {},
   "outputs": [
    {
     "data": {
      "text/plain": [
       "tensor([0., 0., 0., 1., 0., 0., 0., 0.], requires_grad=True)"
      ]
     },
     "execution_count": 4,
     "metadata": {},
     "output_type": "execute_result"
    }
   ],
   "source": [
    "model(3)"
   ]
  },
  {
   "cell_type": "code",
   "execution_count": 5,
   "id": "b2128426-a36f-4ef0-87e6-76fa4b750041",
   "metadata": {},
   "outputs": [
    {
     "data": {
      "text/plain": [
       "tensor([0., 0., 0., 0., 0., 0., 0., 1.], requires_grad=True)"
      ]
     },
     "execution_count": 5,
     "metadata": {},
     "output_type": "execute_result"
    }
   ],
   "source": [
    "model(7)"
   ]
  },
  {
   "cell_type": "code",
   "execution_count": 6,
   "id": "f80e3ee1-a2e5-4624-ba74-2b77b52a078c",
   "metadata": {},
   "outputs": [
    {
     "name": "stdout",
     "output_type": "stream",
     "text": [
      "Parameter: 0\n",
      "Prob. Distbn:  [1. 0. 0. 0. 0. 0. 0. 0.]\n",
      "\n",
      "Parameter: 1\n",
      "Prob. Distbn:  [0. 1. 0. 0. 0. 0. 0. 0.]\n",
      "\n",
      "Parameter: 2\n",
      "Prob. Distbn:  [0. 0. 1. 0. 0. 0. 0. 0.]\n",
      "\n",
      "Parameter: 3\n",
      "Prob. Distbn:  [0. 0. 0. 1. 0. 0. 0. 0.]\n",
      "\n",
      "Parameter: 4\n",
      "Prob. Distbn:  [0. 0. 0. 0. 1. 0. 0. 0.]\n",
      "\n",
      "Parameter: 5\n",
      "Prob. Distbn:  [0. 0. 0. 0. 0. 1. 0. 0.]\n",
      "\n",
      "Parameter: 6\n",
      "Prob. Distbn:  [0. 0. 0. 0. 0. 0. 1. 0.]\n",
      "\n",
      "Parameter: 7\n",
      "Prob. Distbn:  [0. 0. 0. 0. 0. 0. 0. 1.]\n",
      "\n"
     ]
    }
   ],
   "source": [
    "for i in range(8):\n",
    "    print(\"Parameter:\", i)\n",
    "    print(\"Prob. Distbn: \", model(i))\n",
    "    print()"
   ]
  },
  {
   "cell_type": "code",
   "execution_count": 7,
   "id": "82f60912-c499-43c5-93ec-e28e16cb2d51",
   "metadata": {},
   "outputs": [
    {
     "data": {
      "text/plain": [
       "[0, 1, 2, 3, 4, 5, 6, 7]"
      ]
     },
     "execution_count": 7,
     "metadata": {},
     "output_type": "execute_result"
    }
   ],
   "source": [
    "generate_coefficients()"
   ]
  },
  {
   "cell_type": "code",
   "execution_count": null,
   "id": "0b017777-49b3-4f7a-9b57-e26131f36dd2",
   "metadata": {},
   "outputs": [],
   "source": []
  }
 ],
 "metadata": {
  "kernelspec": {
   "display_name": "PennyLane",
   "language": "python",
   "name": "pennylane"
  },
  "language_info": {
   "codemirror_mode": {
    "name": "ipython",
    "version": 3
   },
   "file_extension": ".py",
   "mimetype": "text/x-python",
   "name": "python",
   "nbconvert_exporter": "python",
   "pygments_lexer": "ipython3",
   "version": "3.9.15"
  }
 },
 "nbformat": 4,
 "nbformat_minor": 5
}
