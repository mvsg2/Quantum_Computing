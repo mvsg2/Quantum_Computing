{
 "cells": [
  {
   "cell_type": "code",
   "execution_count": 1,
   "id": "233f3794",
   "metadata": {},
   "outputs": [],
   "source": [
    "import pennylane as qml\n",
    "from pennylane import numpy as np\n",
    "import matplotlib.pyplot as plt"
   ]
  },
  {
   "cell_type": "markdown",
   "id": "c31d67cd",
   "metadata": {},
   "source": [
    "We have real quantum hardware and simulators. For these demonstration purposes, we go for simulators because: <br>\n",
    "1. We will have complete wave function of the system (as opposed to in real systems where the wavefunction is very ikely to collapse) i.e. we are gonna have more information\n",
    "2. We don't have noise at all (hence we have complete access to the wave function)"
   ]
  },
  {
   "cell_type": "code",
   "execution_count": 2,
   "id": "3e58e1ef",
   "metadata": {},
   "outputs": [],
   "source": [
    "# The most commonly used quantum device in Pennylane is the \"default.qubit\" (which is the statevector simulator)\n",
    "device = qml.device('default.qubit', wires=1)"
   ]
  },
  {
   "cell_type": "code",
   "execution_count": 3,
   "id": "86625c4d",
   "metadata": {},
   "outputs": [],
   "source": [
    "@qml.qnode(device)\n",
    "def circuit():\n",
    "    qml.Hadamard(wires=0)\n",
    "    return qml.probs(wires=0)    # return the probabilites of the state of that given qubit"
   ]
  },
  {
   "cell_type": "code",
   "execution_count": 4,
   "id": "3c6bd8f1",
   "metadata": {},
   "outputs": [
    {
     "name": "stdout",
     "output_type": "stream",
     "text": [
      "[0.5 0.5]\n"
     ]
    }
   ],
   "source": [
    "print(circuit())"
   ]
  },
  {
   "cell_type": "code",
   "execution_count": 42,
   "id": "77b729d4",
   "metadata": {},
   "outputs": [
    {
     "data": {
      "text/plain": [
       "'0: ──H─┤  Probs'"
      ]
     },
     "execution_count": 42,
     "metadata": {},
     "output_type": "execute_result"
    }
   ],
   "source": [
    "qml.draw(circuit)()"
   ]
  },
  {
   "cell_type": "code",
   "execution_count": 43,
   "id": "605696cb",
   "metadata": {},
   "outputs": [
    {
     "data": {
      "text/plain": [
       "(<Figure size 288x144 with 1 Axes>, <Axes:>)"
      ]
     },
     "execution_count": 43,
     "metadata": {},
     "output_type": "execute_result"
    },
    {
     "data": {
      "image/png": "[encoded data removed]",
      "text/plain": [
       "<Figure size 288x144 with 1 Axes>"
      ]
     },
     "metadata": {},
     "output_type": "display_data"
    }
   ],
   "source": [
    "qml.draw_mpl(circuit)()"
   ]
  },
  {
   "cell_type": "markdown",
   "id": "32e5dcdb",
   "metadata": {},
   "source": [
    "The 'default.qubit' backend simulator (the statevector sim) is based on Python. But, we know that Python is not the fastest of programming languages.\n",
    "So, we use another simulator backend called \"lightning.qubit\" which is based on C++."
   ]
  },
  {
   "cell_type": "code",
   "execution_count": 5,
   "id": "21db4064",
   "metadata": {},
   "outputs": [],
   "source": [
    "device1 = qml.device(\"lightning.qubit\", wires=2)"
   ]
  },
  {
   "cell_type": "code",
   "execution_count": 35,
   "id": "2532785b",
   "metadata": {},
   "outputs": [],
   "source": [
    "@qml.qnode(device1)\n",
    "def entanglement_circuit():\n",
    "    qml.Hadamard(wires=0)\n",
    "    qml.CNOT(wires=[0,1])\n",
    "    return qml.probs(wires=0)"
   ]
  },
  {
   "cell_type": "code",
   "execution_count": 36,
   "id": "42e21bea",
   "metadata": {},
   "outputs": [
    {
     "name": "stdout",
     "output_type": "stream",
     "text": [
      "[0.5 0.5]\n"
     ]
    }
   ],
   "source": [
    "print(entanglement_circuit())"
   ]
  },
  {
   "cell_type": "code",
   "execution_count": 44,
   "id": "a1a12c4c",
   "metadata": {},
   "outputs": [
    {
     "data": {
      "text/plain": [
       "(<Figure size 360x216 with 1 Axes>, <Axes:>)"
      ]
     },
     "execution_count": 44,
     "metadata": {},
     "output_type": "execute_result"
    },
    {
     "data": {
      "image/png": "[encoded data removed]",
      "text/plain": [
       "<Figure size 360x216 with 1 Axes>"
      ]
     },
     "metadata": {},
     "output_type": "display_data"
    }
   ],
   "source": [
    "qml.draw_mpl(entanglement_circuit)()"
   ]
  },
  {
   "cell_type": "markdown",
   "id": "37b49bbf",
   "metadata": {},
   "source": [
    "We may also use the backend \"default.mixed\" to work on the mixed states (states with different probablities)"
   ]
  },
  {
   "cell_type": "code",
   "execution_count": 37,
   "id": "05ad8291",
   "metadata": {},
   "outputs": [],
   "source": [
    "device2 = qml.device(\"default.mixed\", wires=1)"
   ]
  },
  {
   "cell_type": "code",
   "execution_count": 38,
   "id": "a71293c3",
   "metadata": {},
   "outputs": [],
   "source": [
    "@qml.qnode(device2)\n",
    "def circuit2(theta):\n",
    "    qml.RX(theta, wires=0)\n",
    "    return qml.probs(wires=0)"
   ]
  },
  {
   "cell_type": "code",
   "execution_count": 39,
   "id": "530edf19",
   "metadata": {},
   "outputs": [
    {
     "name": "stdout",
     "output_type": "stream",
     "text": [
      "[0.9330127 0.0669873]\n"
     ]
    }
   ],
   "source": [
    "print(circuit2(np.pi/6))"
   ]
  },
  {
   "cell_type": "code",
   "execution_count": 52,
   "id": "d042384a",
   "metadata": {},
   "outputs": [
    {
     "data": {
      "text/plain": [
       "(<Figure size 288x144 with 1 Axes>, <Axes:>)"
      ]
     },
     "execution_count": 52,
     "metadata": {},
     "output_type": "execute_result"
    },
    {
     "data": {
      "image/png": "[encoded data removed]",
      "text/plain": [
       "<Figure size 288x144 with 1 Axes>"
      ]
     },
     "metadata": {},
     "output_type": "display_data"
    }
   ],
   "source": [
    "qml.draw_mpl(circuit2)(theta=np.pi/6)"
   ]
  },
  {
   "cell_type": "code",
   "execution_count": 53,
   "id": "09c00248",
   "metadata": {},
   "outputs": [],
   "source": [
    "qml.draw??"
   ]
  },
  {
   "cell_type": "markdown",
   "id": "a23d4ff2",
   "metadata": {},
   "source": [
    "Another circuit"
   ]
  },
  {
   "cell_type": "code",
   "execution_count": 75,
   "id": "bfb25477",
   "metadata": {},
   "outputs": [],
   "source": [
    "dev = qml.device(\"default.mixed\", wires=3)"
   ]
  },
  {
   "cell_type": "code",
   "execution_count": 78,
   "id": "eca05dcf",
   "metadata": {},
   "outputs": [],
   "source": [
    "@qml.qnode(device=dev)\n",
    "def circ(p):\n",
    "    qml.Hadamard(wires=0)\n",
    "    qml.BitFlip(p, wires=1)\n",
    "    qml.CNOT(wires=[1,2])\n",
    "    return qml.probs(wires=0), qml.probs(wires=1), qml.probs(wires=2)"
   ]
  },
  {
   "cell_type": "code",
   "execution_count": 79,
   "id": "01719f5f",
   "metadata": {},
   "outputs": [
    {
     "name": "stdout",
     "output_type": "stream",
     "text": [
      "[[0.5    0.5   ]\n",
      " [0.6225 0.3775]\n",
      " [0.6225 0.3775]]\n"
     ]
    }
   ],
   "source": [
    "prob = 0.3775\n",
    "\n",
    "print(circ(prob))"
   ]
  },
  {
   "cell_type": "code",
   "execution_count": 80,
   "id": "78cfffe0",
   "metadata": {},
   "outputs": [
    {
     "data": {
      "text/plain": [
       "(<Figure size 360x288 with 1 Axes>, <Axes:>)"
      ]
     },
     "execution_count": 80,
     "metadata": {},
     "output_type": "execute_result"
    },
    {
     "data": {
      "image/png": "[encoded data removed]",
      "text/plain": [
       "<Figure size 360x288 with 1 Axes>"
      ]
     },
     "metadata": {},
     "output_type": "display_data"
    }
   ],
   "source": [
    "qml.draw_mpl(circ)(p=prob)"
   ]
  },
  {
   "cell_type": "markdown",
   "id": "3342c71d",
   "metadata": {},
   "source": [
    "There is another kind of a quantum computer with a different unit of information.\n",
    "This is the case of the quantum photonic computer where the basic unit of information is qnode (in a different way, different gates, different space, etc).\n",
    "The backend for this is the \"default.gaussian\""
   ]
  },
  {
   "cell_type": "code",
   "execution_count": 83,
   "id": "d0238065",
   "metadata": {},
   "outputs": [
    {
     "name": "stdout",
     "output_type": "stream",
     "text": [
      "0.2500000000000001\n"
     ]
    }
   ],
   "source": [
    "device3 = qml.device(\"default.gaussian\", wires=2)\n",
    "\n",
    "@qml.qnode(device=device3)\n",
    "def circuit3(x, theta):\n",
    "    qml.Displacement(x, 0, wires=0)\n",
    "    qml.Beamsplitter(theta, 0, wires=[0, 1])\n",
    "    return qml.expval(qml.NumberOperator(0))\n",
    "\n",
    "print(circuit3(1,np.pi/3))"
   ]
  },
  {
   "cell_type": "code",
   "execution_count": 84,
   "id": "c1e19bd0",
   "metadata": {},
   "outputs": [
    {
     "data": {
      "text/plain": [
       "(<Figure size 360x216 with 1 Axes>, <Axes:>)"
      ]
     },
     "execution_count": 84,
     "metadata": {},
     "output_type": "execute_result"
    },
    {
     "data": {
      "image/png": "[encoded data removed]",
      "text/plain": [
       "<Figure size 360x216 with 1 Axes>"
      ]
     },
     "metadata": {},
     "output_type": "display_data"
    }
   ],
   "source": [
    "qml.draw_mpl(circuit3)(1, np.pi/4)"
   ]
  },
  {
   "cell_type": "code",
   "execution_count": 64,
   "id": "c2355bb5",
   "metadata": {},
   "outputs": [],
   "source": [
    "device4 = qml.device(\"default.qubit\", wires=1)"
   ]
  },
  {
   "cell_type": "code",
   "execution_count": 65,
   "id": "eef6f798",
   "metadata": {},
   "outputs": [],
   "source": [
    "@qml.qnode(device=device4)\n",
    "def circuit4(theta):\n",
    "    qml.RY(theta, wires=0)\n",
    "    qml.Hadamard(0)\n",
    "    return qml.probs(wires=0)"
   ]
  },
  {
   "cell_type": "code",
   "execution_count": 66,
   "id": "d07a98e6",
   "metadata": {},
   "outputs": [
    {
     "name": "stdout",
     "output_type": "stream",
     "text": [
      "[0.85355339 0.14644661]\n"
     ]
    }
   ],
   "source": [
    "print(circuit4(theta=np.pi/4))"
   ]
  },
  {
   "cell_type": "code",
   "execution_count": 85,
   "id": "da43e1c7",
   "metadata": {},
   "outputs": [
    {
     "data": {
      "text/plain": [
       "(<Figure size 360x144 with 1 Axes>, <Axes:>)"
      ]
     },
     "execution_count": 85,
     "metadata": {},
     "output_type": "execute_result"
    },
    {
     "data": {
      "image/png": "[encoded data removed]",
      "text/plain": [
       "<Figure size 360x144 with 1 Axes>"
      ]
     },
     "metadata": {},
     "output_type": "display_data"
    }
   ],
   "source": [
    "qml.draw_mpl(circuit4)(np.pi/2)"
   ]
  },
  {
   "cell_type": "code",
   "execution_count": null,
   "id": "a7439db5",
   "metadata": {},
   "outputs": [],
   "source": []
  }
 ],
 "metadata": {
  "kernelspec": {
   "display_name": "Python 3 (ipykernel)",
   "language": "python",
   "name": "python3"
  },
  "language_info": {
   "codemirror_mode": {
    "name": "ipython",
    "version": 3
   },
   "file_extension": ".py",
   "mimetype": "text/x-python",
   "name": "python",
   "nbconvert_exporter": "python",
   "pygments_lexer": "ipython3",
   "version": "3.9.12"
  }
 },
 "nbformat": 4,
 "nbformat_minor": 5
}
