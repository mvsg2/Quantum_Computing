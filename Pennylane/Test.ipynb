{
 "cells": [
  {
   "attachments": {},
   "cell_type": "markdown",
   "metadata": {},
   "source": [
    "### PennyLane Codes"
   ]
  },
  {
   "cell_type": "code",
   "execution_count": 6,
   "metadata": {},
   "outputs": [],
   "source": [
    "import pennylane as qml\n",
    "from pennylane import numpy as np"
   ]
  },
  {
   "cell_type": "code",
   "execution_count": 10,
   "metadata": {},
   "outputs": [],
   "source": [
    "dev = qml.device(name='default.qubit', wires=2, shots=10000)  # initializing a \"device\""
   ]
  },
  {
   "cell_type": "code",
   "execution_count": 15,
   "metadata": {},
   "outputs": [],
   "source": [
    "@qml.qnode(device=dev)       # The qml decorator\n",
    "def entanglement_circuit():\n",
    "    qml.Hadamard(wires=0)\n",
    "    qml.CNOT(wires=[0,1])\n",
    "    return qml.sample(op=qml.PauliZ(wires=0)), qml.sample(op=qml.PauliZ(wires=1))  # If |0>, then Z gate just gives 1.|0> and if |1>, Z gate gives -1.|1>"
   ]
  },
  {
   "cell_type": "code",
   "execution_count": 16,
   "metadata": {},
   "outputs": [],
   "source": [
    "q0, q1 = entanglement_circuit()"
   ]
  },
  {
   "cell_type": "code",
   "execution_count": 17,
   "metadata": {},
   "outputs": [
    {
     "data": {
      "text/plain": [
       "tensor([ 1, -1,  1, ..., -1, -1,  1], dtype=int64, requires_grad=True)"
      ]
     },
     "execution_count": 17,
     "metadata": {},
     "output_type": "execute_result"
    }
   ],
   "source": [
    "q0"
   ]
  },
  {
   "cell_type": "code",
   "execution_count": 18,
   "metadata": {},
   "outputs": [
    {
     "data": {
      "text/plain": [
       "tensor([ 1, -1,  1, ..., -1, -1,  1], dtype=int64, requires_grad=True)"
      ]
     },
     "execution_count": 18,
     "metadata": {},
     "output_type": "execute_result"
    }
   ],
   "source": [
    "q1"
   ]
  },
  {
   "cell_type": "code",
   "execution_count": 20,
   "metadata": {},
   "outputs": [
    {
     "data": {
      "text/plain": [
       "tensor(10000, requires_grad=True)"
      ]
     },
     "execution_count": 20,
     "metadata": {},
     "output_type": "execute_result"
    }
   ],
   "source": [
    "(q0 == q1).sum()    # Since our circuit is entanglement circuit, both the qubits will always be the same"
   ]
  },
  {
   "cell_type": "code",
   "execution_count": 21,
   "metadata": {},
   "outputs": [],
   "source": [
    "# defining another quantum device\n",
    "dev1 = qml.device(name='default.qubit', wires=1, shots=10000)\n",
    "\n",
    "# Running a QNode on this device\n",
    "@qml.qnode(device=dev1)\n",
    "def parametrized_circuit(parameter):\n",
    "    qml.RX(phi=parameter, wires=0)\n",
    "    return qml.sample(op=qml.PauliZ(wires=0))"
   ]
  },
  {
   "cell_type": "code",
   "execution_count": 22,
   "metadata": {},
   "outputs": [],
   "source": [
    "q_rx = parametrized_circuit(parameter=np.pi/2)"
   ]
  },
  {
   "cell_type": "code",
   "execution_count": 23,
   "metadata": {},
   "outputs": [
    {
     "data": {
      "text/plain": [
       "tensor([ 1, -1, -1, ..., -1, -1, -1], dtype=int64, requires_grad=True)"
      ]
     },
     "execution_count": 23,
     "metadata": {},
     "output_type": "execute_result"
    }
   ],
   "source": [
    "q_rx"
   ]
  },
  {
   "cell_type": "code",
   "execution_count": 24,
   "metadata": {},
   "outputs": [
    {
     "data": {
      "text/plain": [
       "tensor([-1, -1,  1,  1, -1,  1, -1,  1,  1,  1, -1,  1, -1, -1, -1, -1,\n",
       "        -1, -1,  1, -1,  1,  1,  1,  1, -1, -1, -1,  1, -1,  1,  1,  1,\n",
       "         1,  1,  1,  1,  1,  1, -1, -1,  1,  1,  1, -1, -1,  1,  1,  1,\n",
       "         1,  1,  1, -1, -1,  1,  1,  1,  1,  1, -1, -1, -1,  1,  1,  1,\n",
       "         1, -1, -1, -1, -1,  1,  1,  1, -1,  1, -1, -1, -1,  1,  1, -1,\n",
       "         1,  1,  1,  1,  1,  1,  1, -1, -1, -1,  1, -1,  1, -1, -1,  1,\n",
       "         1,  1, -1], dtype=int64, requires_grad=True)"
      ]
     },
     "execution_count": 24,
     "metadata": {},
     "output_type": "execute_result"
    }
   ],
   "source": [
    "q_rx[1:100]"
   ]
  },
  {
   "cell_type": "code",
   "execution_count": 30,
   "metadata": {},
   "outputs": [
    {
     "data": {
      "text/plain": [
       "tensor([ 1,  1,  1,  1, -1], dtype=int64, requires_grad=True)"
      ]
     },
     "execution_count": 30,
     "metadata": {},
     "output_type": "execute_result"
    }
   ],
   "source": [
    "q_rx_new = parametrized_circuit(parameter=np.pi/4, shots=5) # default shots of 10000 as we defined above is overwritten for this cell\n",
    "\n",
    "q_rx_new     # Each time this cell is run, it gives a different result..."
   ]
  },
  {
   "cell_type": "code",
   "execution_count": 27,
   "metadata": {},
   "outputs": [],
   "source": [
    "# sum = 0\n",
    "# for I in q_rx:\n",
    "#     sum += I\n",
    "# print(sum)\n",
    "\n",
    "# ---------------rather than the for loop we could have just used the sum() function -------------------#\n",
    "# print(q_rx.sum())"
   ]
  },
  {
   "cell_type": "code",
   "execution_count": 31,
   "metadata": {},
   "outputs": [],
   "source": [
    "def ion_trap_cnot(wires):\n",
    "    return [\n",
    "        qml.RY(np.pi/2, wires=wires[0]),\n",
    "        qml.IsingXX(np.pi/2, wires=wires),\n",
    "        qml.RX(-np.pi/2, wires=wires[0]),\n",
    "        qml.RY(-np.pi/2, wires=wires[0]),\n",
    "        qml.RY(-np.pi/2, wires=wires[1])\n",
    "    ]"
   ]
  },
  {
   "cell_type": "code",
   "execution_count": 32,
   "metadata": {},
   "outputs": [
    {
     "data": {
      "text/plain": [
       "[RY(1.5707963267948966, wires=[0]),\n",
       " IsingXX(1.5707963267948966, wires=[0, 1]),\n",
       " RX(-1.5707963267948966, wires=[0]),\n",
       " RY(-1.5707963267948966, wires=[0]),\n",
       " RY(-1.5707963267948966, wires=[1])]"
      ]
     },
     "execution_count": 32,
     "metadata": {},
     "output_type": "execute_result"
    }
   ],
   "source": [
    "ionTrap_CNOT = ion_trap_cnot(wires=[0,1])\n",
    "\n",
    "ionTrap_CNOT"
   ]
  },
  {
   "cell_type": "code",
   "execution_count": 58,
   "metadata": {},
   "outputs": [],
   "source": [
    "# As the CNOT gate normally has no decomposition, we can use default.qubit\n",
    "# here for expository purposes.\n",
    "dev2 = qml.device(\n",
    "    'default.qubit', wires=2, custom_decomps={\"CNOT\" : ion_trap_cnot}, shots=100\n",
    ")\n",
    "\n",
    "@qml.qnode(dev2, expansion_strategy=\"device\")\n",
    "def run_cnot():\n",
    "    qml.Hadamard(wires=0)\n",
    "    qml.CNOT(wires=[0, 1])\n",
    "    return qml.expval(qml.PauliX(wires=1))"
   ]
  },
  {
   "cell_type": "code",
   "execution_count": 59,
   "metadata": {},
   "outputs": [
    {
     "data": {
      "text/plain": [
       "tensor(0.22, requires_grad=True)"
      ]
     },
     "execution_count": 59,
     "metadata": {},
     "output_type": "execute_result"
    }
   ],
   "source": [
    "my_cnot = run_cnot()\n",
    "\n",
    "my_cnot"
   ]
  },
  {
   "cell_type": "code",
   "execution_count": 67,
   "metadata": {},
   "outputs": [
    {
     "name": "stdout",
     "output_type": "stream",
     "text": [
      "0: ──H──RY(1.57)─╭IsingXX(1.57)──RX(-1.57)──RY(-1.57)─┤     \n",
      "1: ──────────────╰IsingXX(1.57)──RY(-1.57)────────────┤  <X>\n"
     ]
    }
   ],
   "source": [
    "print(qml.draw(qnode=run_cnot)())"
   ]
  },
  {
   "cell_type": "code",
   "execution_count": 7,
   "metadata": {},
   "outputs": [
    {
     "data": {
      "text/plain": [
       "[CNOT(wires=[0, 1]), CNOT(wires=[1, 0]), CNOT(wires=[0, 1])]"
      ]
     },
     "execution_count": 7,
     "metadata": {},
     "output_type": "execute_result"
    }
   ],
   "source": [
    "op = qml.SWAP(wires=[0,1])\n",
    "op.decomposition()"
   ]
  },
  {
   "cell_type": "code",
   "execution_count": 8,
   "metadata": {},
   "outputs": [
    {
     "data": {
      "text/plain": [
       "True"
      ]
     },
     "execution_count": 8,
     "metadata": {},
     "output_type": "execute_result"
    }
   ],
   "source": [
    "qml.is_hermitian(op=op)   # To see if our SWAP gate is Hermitian"
   ]
  },
  {
   "cell_type": "code",
   "execution_count": 9,
   "metadata": {},
   "outputs": [
    {
     "data": {
      "text/plain": [
       "True"
      ]
     },
     "execution_count": 9,
     "metadata": {},
     "output_type": "execute_result"
    }
   ],
   "source": [
    "qml.is_unitary(op=op)    # To see if our SWAP gate is unitary"
   ]
  },
  {
   "cell_type": "code",
   "execution_count": null,
   "metadata": {},
   "outputs": [],
   "source": []
  }
 ],
 "metadata": {
  "kernelspec": {
   "display_name": "Python 3",
   "language": "python",
   "name": "python3"
  },
  "language_info": {
   "codemirror_mode": {
    "name": "ipython",
    "version": 3
   },
   "file_extension": ".py",
   "mimetype": "text/x-python",
   "name": "python",
   "nbconvert_exporter": "python",
   "pygments_lexer": "ipython3",
   "version": "3.10.-1"
  },
  "orig_nbformat": 4,
  "vscode": {
   "interpreter": {
    "hash": "e1425da5446126f387a0a91d58cd488eb6c8da386ecf3da09dc869303a65696c"
   }
  }
 },
 "nbformat": 4,
 "nbformat_minor": 2
}
