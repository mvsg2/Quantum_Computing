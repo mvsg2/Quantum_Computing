{
 "cells": [
  {
   "cell_type": "code",
   "execution_count": 1,
   "id": "aa94833d-5a22-45ba-922f-a3c839554f52",
   "metadata": {},
   "outputs": [],
   "source": [
    "import pennylane as qml\n",
    "from pennylane import numpy as np"
   ]
  },
  {
   "cell_type": "code",
   "execution_count": 179,
   "id": "d85ce6d7-b5da-4fc0-a6f4-0da1d6781569",
   "metadata": {},
   "outputs": [],
   "source": [
    "def circuit_left():\n",
    "    \"\"\"\n",
    "    This function corresponds to the circuit on the left-hand side of the diagram in the \n",
    "    description. Simply place the necessary operations, you do not have to return anything.\n",
    "    \"\"\"\n",
    "#    qml.Hadamard(wires=0)\n",
    "    qml.CNOT(wires=[0,1])\n",
    "    qml.CNOT(wires=[1,2])\n",
    "#    qml.Hadamard(wires=0)\n",
    "    #qml.measure(wires=[0,1], observable=qml.PauliZ @ qml.PauliZ)    \n",
    "#    qml.U3(-alpha, -beta, -gamma, wires=0)\n",
    "    #qml.expval(qml.PauliZ(0))   \n",
    "\n",
    "@qml.qnode(dev)\n",
    "def prob_meas(wires):\n",
    "    return qml.probs(wires)\n",
    "    \n",
    "def circuit_right():\n",
    "    \"\"\"\n",
    "    This function corresponds to the circuit on the right-hand side of the diagram in the \n",
    "    description. Simply place the necessary operations, you do not have to return anything.\n",
    "    \"\"\"\n",
    "    #result = qml.expval(-0.5*qml.PauliZ(0) - qml.PauliZ(1) + 0.5*qml.PauliZ(2))\n",
    "    #if result == 0:\n",
    "     #   qml.PauliX(wires=0)\n",
    "    #elif result == 1:\n",
    "     #   qml.PauliX(wires=1)\n",
    "    #elif result == -2:\n",
    "        #qml.PauliX(wires=2)\n",
    "   # qml.invert(qml.measure)(wires=[0,1,2])\n",
    "    #qml.adjoint(qml.measure)\n",
    "    #qml.U3(alpha, beta, gamma, wires=0)\n",
    "    #qml.CNOT(wires=[0,1])\n",
    "    #qml.CNOT(wires=[1,2])\n",
    "    \n",
    "    #qml.PauliX(wires=0)\n",
    "    #qml.PauliX(wires=1)\n",
    "    #qml.ctrl(qml.CNOT, control=0)(wires=[1,2])\n",
    "    #result = qml.expval(qml.PauliZ(0) - qml.PauliZ(1))\n",
    "    #if result == 0:\n",
    "     #   qml.PauliX(wires=2)\n",
    "    \n",
    "    probs = prob_meas([0,1])\n",
    "#    qml.cond(probs.numpy()[0] == probs.numpy()[1], qml.PauliX)(wires=2)\n",
    "    if np.allclose(probs[0], probs[1]):\n",
    "        qml.PauliX(2)"
   ]
  },
  {
   "cell_type": "code",
   "execution_count": 187,
   "id": "1853cc3b-eaaa-48a2-a2fa-d4239cb87146",
   "metadata": {},
   "outputs": [],
   "source": [
    "def U():\n",
    "    \"\"\"This operator generates a PauliX gate on a random qubit\"\"\"\n",
    "    qml.PauliX(wires=np.random.randint(3))\n",
    "\n",
    "\n",
    "dev = qml.device(\"default.qubit\", wires=3)\n",
    "\n",
    "@qml.qnode(dev)\n",
    "def circuit(alpha, beta, gamma):\n",
    "    \"\"\"Total circuit joining each block.\n",
    "\n",
    "    Args: \n",
    "        alpha (float): The first parameter of a U3 gate.\n",
    "        beta (float):The second parameter of a U3 gate. \n",
    "        gamma (float): The third parameter of a U3 gate. \n",
    "    \n",
    "    Returns:\n",
    "        (float): The expectation value of an observable.\n",
    "    \"\"\"\n",
    "    qml.U3(alpha, beta, gamma, wires=0)\n",
    "    circuit_left()\n",
    "    U()\n",
    "    circuit_right()\n",
    "\n",
    "    # Here we are returning the expected value with respect to any observable,\n",
    "    # the choice of observable is not important in this exercise.\n",
    "\n",
    "    #return qml.expval(0.5 * qml.PauliZ(2) - qml.PauliY(2))\n",
    "    return qml.probs(wires=2)"
   ]
  },
  {
   "cell_type": "code",
   "execution_count": 197,
   "id": "c3a474c4-b3c4-4ce4-9ef6-8a7033ad102f",
   "metadata": {},
   "outputs": [
    {
     "name": "stdout",
     "output_type": "stream",
     "text": [
      "[0.99750208 0.         0.         0.00249792 0.00249792 0.99750208]\n",
      "[0.99750208 0.         0.         0.00249792 0.00249792 0.99750208]\n",
      "[0.         0.00249792 0.99750208 0.         0.99750208 0.00249792]\n",
      "[0.         0.99750208 0.00249792 0.         0.99750208 0.00249792]\n",
      "[0.99750208 0.         0.         0.00249792 0.00249792 0.99750208]\n",
      "[0.         0.00249792 0.99750208 0.         0.99750208 0.00249792]\n",
      "[0.         0.99750208 0.00249792 0.         0.99750208 0.00249792]\n",
      "[0.         0.00249792 0.99750208 0.         0.99750208 0.00249792]\n",
      "[0.         0.99750208 0.00249792 0.         0.99750208 0.00249792]\n",
      "[0.99750208 0.         0.         0.00249792 0.00249792 0.99750208]\n"
     ]
    }
   ],
   "source": [
    "for _ in range(10):\n",
    "    print(circuit(0.1, 0.2, 0.3))"
   ]
  },
  {
   "cell_type": "code",
   "execution_count": 3,
   "id": "90b6b951-303e-4650-b1af-2b517d722ec6",
   "metadata": {},
   "outputs": [
    {
     "data": {
      "text/plain": [
       "tensor([0.5, 0. , 0. , 0. , 0. , 0. , 0. , 0.5], requires_grad=True)"
      ]
     },
     "execution_count": 3,
     "metadata": {},
     "output_type": "execute_result"
    }
   ],
   "source": [
    "dev = qml.device(\"default.qubit\", wires=3)\n",
    "@qml.qnode(dev)\n",
    "def ent():\n",
    "    qml.Hadamard(wires=0)\n",
    "    qml.CNOT(wires=[0,1])\n",
    "    qml.CNOT(wires=[1,2])\n",
    "    return qml.probs(wires=[0,1,2])\n",
    "\n",
    "ent()"
   ]
  },
  {
   "cell_type": "code",
   "execution_count": 11,
   "id": "00aa2c21-cbfd-4e17-b207-cdc25e91f38f",
   "metadata": {},
   "outputs": [
    {
     "name": "stdout",
     "output_type": "stream",
     "text": [
      "Final state:\n",
      " [0.70710678+0.j 0.        +0.j 0.        +0.j 0.        +0.j\n",
      " 0.70710678+0.j 0.        +0.j 0.        +0.j 0.        +0.j]\n"
     ]
    }
   ],
   "source": [
    "# Define the quantum teleportation circuit\n",
    "def teleportation_circuit(params, wires):\n",
    "    qml.Hadamard(wires=wires[0])\n",
    "    qml.CNOT(wires=[wires[0], wires[1]])\n",
    "    qml.CNOT(wires=[wires[1], wires[2]])\n",
    "    qml.Hadamard(wires=wires[0])\n",
    "    qml.measure(wires=wires[0])\n",
    "    qml.measure(wires=wires[1])\n",
    "\n",
    "    # Apply the Pauli gates depending on the measurement results\n",
    "    if params[0] == 1:\n",
    "        qml.PauliX(wires=wires[2])\n",
    "    if params[1] == 1:\n",
    "        qml.PauliZ(wires=wires[2])\n",
    "        \n",
    "# Set up the device and the initial state of the qubits\n",
    "dev = qml.device(\"default.qubit\", wires=3)\n",
    "init_state = np.array([1/np.sqrt(2), 1/np.sqrt(2)], requires_grad=False)\n",
    "\n",
    "# Apply the teleportation circuit to transfer the state of qubit 1 to qubit 3\n",
    "@qml.qnode(dev)\n",
    "def teleportation():\n",
    "    qml.Hadamard(wires=0)\n",
    "    teleportation_circuit([0, 0], wires=[0, 1, 2])\n",
    "    return qml.state()\n",
    "\n",
    "final_state = teleportation()\n",
    "print(\"Final state:\\n\", final_state)\n"
   ]
  },
  {
   "cell_type": "code",
   "execution_count": 70,
   "id": "7db7ba81-0202-4343-90c8-e0b7dfcbdd3a",
   "metadata": {},
   "outputs": [],
   "source": [
    "d = qml.device('default.qubit', wires=3)\n",
    "@qml.qnode(d)\n",
    "def c():\n",
    "    qml.PauliX(wires=np.random.randint(3))\n",
    "    # return qml.expval(qml.PauliZ(0) - qml.PauliZ(1))   # for 2-qubit scenario\n",
    "    return qml.expval(-0.5*qml.PauliZ(0) - qml.PauliZ(1) + 0.5 * qml.PauliZ(2))"
   ]
  },
  {
   "cell_type": "code",
   "execution_count": 46,
   "id": "9fc15908-7dd6-4dbe-ade4-9d6bf363bcaf",
   "metadata": {},
   "outputs": [
    {
     "data": {
      "text/plain": [
       "0"
      ]
     },
     "execution_count": 46,
     "metadata": {},
     "output_type": "execute_result"
    }
   ],
   "source": [
    "np.random.randint(3)"
   ]
  },
  {
   "cell_type": "code",
   "execution_count": 71,
   "id": "9d06fc28-fb36-47b2-8b57-dfbdb39dbaca",
   "metadata": {},
   "outputs": [
    {
     "name": "stdout",
     "output_type": "stream",
     "text": [
      "-2.0\n",
      "0.0\n",
      "1.0\n",
      "-2.0\n",
      "1.0\n",
      "-2.0\n",
      "-2.0\n",
      "-2.0\n",
      "1.0\n",
      "0.0\n"
     ]
    }
   ],
   "source": [
    "for _ in range(10):\n",
    "    r = c()   # if it is 0, then that means the X gate is applied to q0, if 1, then to q1, and if -2, then to q2\n",
    "    print(r)"
   ]
  },
  {
   "cell_type": "code",
   "execution_count": 72,
   "id": "1288d8fc-c20a-4166-910a-cbaaaf6fc427",
   "metadata": {},
   "outputs": [
    {
     "data": {
      "text/plain": [
       "expval(  (-1.0) [Z1]\n",
       "+ (-0.5) [Z0]\n",
       "+ (0.5) [Z2])"
      ]
     },
     "execution_count": 72,
     "metadata": {},
     "output_type": "execute_result"
    }
   ],
   "source": [
    "r1 = qml.expval(-0.5*qml.PauliZ(0) - qml.PauliZ(1) + 0.5 * qml.PauliZ(2))\n",
    "\n",
    "r1"
   ]
  },
  {
   "cell_type": "code",
   "execution_count": 8,
   "id": "0b5eebff-f31e-4805-871e-3db1fc47dafd",
   "metadata": {},
   "outputs": [],
   "source": []
  },
  {
   "cell_type": "code",
   "execution_count": 17,
   "id": "b2f5e5e3-6a43-4f2d-8207-039bc7b23dbe",
   "metadata": {},
   "outputs": [
    {
     "name": "stdout",
     "output_type": "stream",
     "text": [
      "\tIn loop: 0\n",
      "\tIn loop: 1\n",
      "\tIn loop: 2\n",
      "\tIn loop: 3\n",
      "\tIn loop: 4\n",
      "\tIn loop: 5\n",
      "\tIn loop: 6\n",
      "\tIn loop: 7\n",
      "\tIn loop: 8\n",
      "\tIn loop: 9\n",
      "After loop: 9\n"
     ]
    }
   ],
   "source": [
    "for i in range(10):\n",
    "\tprint(\"\\tIn loop:\", i)\n",
    "\n",
    "print(\"After loop:\", i)"
   ]
  },
  {
   "cell_type": "code",
   "execution_count": 30,
   "id": "692d83c5-c004-4b5d-98fd-1bed5c0caa9b",
   "metadata": {},
   "outputs": [
    {
     "data": {
      "text/plain": [
       "'0.28.0'"
      ]
     },
     "execution_count": 30,
     "metadata": {},
     "output_type": "execute_result"
    }
   ],
   "source": [
    "qml.__version__"
   ]
  },
  {
   "cell_type": "code",
   "execution_count": 94,
   "id": "f6953594-d75f-4bcc-b700-f57c812c83d3",
   "metadata": {},
   "outputs": [],
   "source": [
    "d1 = qml.device('default.qubit', wires=2)\n",
    "@qml.qnode(d1)\n",
    "def test1():\n",
    "    qml.Hadamard(0)\n",
    "    qml.PauliX(1)\n",
    "    m = qml.measure(0)\n",
    "    qml.cond(m, qml.PauliX)(wires=1)\n",
    "    return qml.probs(wires=1)"
   ]
  },
  {
   "cell_type": "code",
   "execution_count": 105,
   "id": "11fd5b80-b1f9-4180-b460-3c3b210da8b5",
   "metadata": {},
   "outputs": [
    {
     "data": {
      "text/plain": [
       "True"
      ]
     },
     "execution_count": 105,
     "metadata": {},
     "output_type": "execute_result"
    }
   ],
   "source": [
    "p = test1()\n",
    "p.numpy()[0] == p.numpy()[1]"
   ]
  },
  {
   "cell_type": "code",
   "execution_count": 83,
   "id": "d7d67f63-2e5d-444f-9576-cf42157be46b",
   "metadata": {},
   "outputs": [
    {
     "data": {
      "text/plain": [
       "\u001b[0;31mSignature:\u001b[0m \u001b[0mqml\u001b[0m\u001b[0;34m.\u001b[0m\u001b[0mmeasure\u001b[0m\u001b[0;34m(\u001b[0m\u001b[0mwires\u001b[0m\u001b[0;34m)\u001b[0m\u001b[0;34m\u001b[0m\u001b[0;34m\u001b[0m\u001b[0m\n",
       "\u001b[0;31mSource:\u001b[0m   \n",
       "\u001b[0;32mdef\u001b[0m \u001b[0mmeasure\u001b[0m\u001b[0;34m(\u001b[0m\u001b[0mwires\u001b[0m\u001b[0;34m)\u001b[0m\u001b[0;34m:\u001b[0m  \u001b[0;31m# TODO: Change name to mid_measure\u001b[0m\u001b[0;34m\u001b[0m\n",
       "\u001b[0;34m\u001b[0m    \u001b[0;34m\"\"\"Perform a mid-circuit measurement in the computational basis on the\u001b[0m\n",
       "\u001b[0;34m    supplied qubit.\u001b[0m\n",
       "\u001b[0;34m\u001b[0m\n",
       "\u001b[0;34m    Measurement outcomes can be obtained and used to conditionally apply\u001b[0m\n",
       "\u001b[0;34m    operations.\u001b[0m\n",
       "\u001b[0;34m\u001b[0m\n",
       "\u001b[0;34m    If a device doesn't support mid-circuit measurements natively, then the\u001b[0m\n",
       "\u001b[0;34m    QNode will apply the :func:`defer_measurements` transform.\u001b[0m\n",
       "\u001b[0;34m\u001b[0m\n",
       "\u001b[0;34m    **Example:**\u001b[0m\n",
       "\u001b[0;34m\u001b[0m\n",
       "\u001b[0;34m    .. code-block:: python3\u001b[0m\n",
       "\u001b[0;34m\u001b[0m\n",
       "\u001b[0;34m        dev = qml.device(\"default.qubit\", wires=2)\u001b[0m\n",
       "\u001b[0;34m\u001b[0m\n",
       "\u001b[0;34m        @qml.qnode(dev)\u001b[0m\n",
       "\u001b[0;34m        def func(x, y):\u001b[0m\n",
       "\u001b[0;34m            qml.RY(x, wires=0)\u001b[0m\n",
       "\u001b[0;34m            qml.CNOT(wires=[0, 1])\u001b[0m\n",
       "\u001b[0;34m            m_0 = qml.measure(1)\u001b[0m\n",
       "\u001b[0;34m\u001b[0m\n",
       "\u001b[0;34m            qml.cond(m_0, qml.RY)(y, wires=0)\u001b[0m\n",
       "\u001b[0;34m            return qml.probs(wires=[0])\u001b[0m\n",
       "\u001b[0;34m\u001b[0m\n",
       "\u001b[0;34m    Executing this QNode:\u001b[0m\n",
       "\u001b[0;34m\u001b[0m\n",
       "\u001b[0;34m    >>> pars = np.array([0.643, 0.246], requires_grad=True)\u001b[0m\n",
       "\u001b[0;34m    >>> func(*pars)\u001b[0m\n",
       "\u001b[0;34m    tensor([0.90165331, 0.09834669], requires_grad=True)\u001b[0m\n",
       "\u001b[0;34m\u001b[0m\n",
       "\u001b[0;34m    Mid circuit measurements can be manipulated using the following dunder methods\u001b[0m\n",
       "\u001b[0;34m    `+`, `-`, `*`, `/`, `~` (not), `&` (and), `|` (or), `==`, `<=`, `>=`, `<`, `>`. With other mid-circuit measurements or scalars.\u001b[0m\n",
       "\u001b[0;34m\u001b[0m\n",
       "\u001b[0;34m    Note:\u001b[0m\n",
       "\u001b[0;34m        python `not`, `and`, `or`, do not work since these do not have dunder methods. Instead use `~`, `&`, `|`.\u001b[0m\n",
       "\u001b[0;34m\u001b[0m\n",
       "\u001b[0;34m    Args:\u001b[0m\n",
       "\u001b[0;34m        wires (Wires): The wire of the qubit the measurement process applies to.\u001b[0m\n",
       "\u001b[0;34m\u001b[0m\n",
       "\u001b[0;34m    Returns:\u001b[0m\n",
       "\u001b[0;34m        MidMeasureMP: measurement process instance\u001b[0m\n",
       "\u001b[0;34m\u001b[0m\n",
       "\u001b[0;34m    Raises:\u001b[0m\n",
       "\u001b[0;34m        QuantumFunctionError: if multiple wires were specified\u001b[0m\n",
       "\u001b[0;34m    \"\"\"\u001b[0m\u001b[0;34m\u001b[0m\n",
       "\u001b[0;34m\u001b[0m    \u001b[0mwire\u001b[0m \u001b[0;34m=\u001b[0m \u001b[0mWires\u001b[0m\u001b[0;34m(\u001b[0m\u001b[0mwires\u001b[0m\u001b[0;34m)\u001b[0m\u001b[0;34m\u001b[0m\n",
       "\u001b[0;34m\u001b[0m    \u001b[0;32mif\u001b[0m \u001b[0mlen\u001b[0m\u001b[0;34m(\u001b[0m\u001b[0mwire\u001b[0m\u001b[0;34m)\u001b[0m \u001b[0;34m>\u001b[0m \u001b[0;36m1\u001b[0m\u001b[0;34m:\u001b[0m\u001b[0;34m\u001b[0m\n",
       "\u001b[0;34m\u001b[0m        \u001b[0;32mraise\u001b[0m \u001b[0mqml\u001b[0m\u001b[0;34m.\u001b[0m\u001b[0mQuantumFunctionError\u001b[0m\u001b[0;34m(\u001b[0m\u001b[0;34m\u001b[0m\n",
       "\u001b[0;34m\u001b[0m            \u001b[0;34m\"Only a single qubit can be measured in the middle of the circuit\"\u001b[0m\u001b[0;34m\u001b[0m\n",
       "\u001b[0;34m\u001b[0m        \u001b[0;34m)\u001b[0m\u001b[0;34m\u001b[0m\n",
       "\u001b[0;34m\u001b[0m\u001b[0;34m\u001b[0m\n",
       "\u001b[0;34m\u001b[0m    \u001b[0;31m# Create a UUID and a map between MP and MV to support serialization\u001b[0m\u001b[0;34m\u001b[0m\n",
       "\u001b[0;34m\u001b[0m    \u001b[0mmeasurement_id\u001b[0m \u001b[0;34m=\u001b[0m \u001b[0mstr\u001b[0m\u001b[0;34m(\u001b[0m\u001b[0muuid\u001b[0m\u001b[0;34m.\u001b[0m\u001b[0muuid4\u001b[0m\u001b[0;34m(\u001b[0m\u001b[0;34m)\u001b[0m\u001b[0;34m)\u001b[0m\u001b[0;34m[\u001b[0m\u001b[0;34m:\u001b[0m\u001b[0;36m8\u001b[0m\u001b[0;34m]\u001b[0m\u001b[0;34m\u001b[0m\n",
       "\u001b[0;34m\u001b[0m    \u001b[0mMidMeasureMP\u001b[0m\u001b[0;34m(\u001b[0m\u001b[0mwires\u001b[0m\u001b[0;34m=\u001b[0m\u001b[0mwire\u001b[0m\u001b[0;34m,\u001b[0m \u001b[0mid\u001b[0m\u001b[0;34m=\u001b[0m\u001b[0mmeasurement_id\u001b[0m\u001b[0;34m)\u001b[0m\u001b[0;34m\u001b[0m\n",
       "\u001b[0;34m\u001b[0m    \u001b[0;32mreturn\u001b[0m \u001b[0mMeasurementValue\u001b[0m\u001b[0;34m(\u001b[0m\u001b[0;34m[\u001b[0m\u001b[0mmeasurement_id\u001b[0m\u001b[0;34m]\u001b[0m\u001b[0;34m,\u001b[0m \u001b[0mprocessing_fn\u001b[0m\u001b[0;34m=\u001b[0m\u001b[0;32mlambda\u001b[0m \u001b[0mv\u001b[0m\u001b[0;34m:\u001b[0m \u001b[0mv\u001b[0m\u001b[0;34m)\u001b[0m\u001b[0;34m\u001b[0m\u001b[0;34m\u001b[0m\u001b[0m\n",
       "\u001b[0;31mFile:\u001b[0m      /opt/conda/envs/pennylane/lib/python3.9/site-packages/pennylane/measurements/mid_measure.py\n",
       "\u001b[0;31mType:\u001b[0m      function\n"
      ]
     },
     "metadata": {},
     "output_type": "display_data"
    }
   ],
   "source": [
    "qml.measure??"
   ]
  },
  {
   "cell_type": "code",
   "execution_count": 84,
   "id": "db8c74d5-6702-4300-990f-c077916dfc63",
   "metadata": {},
   "outputs": [
    {
     "data": {
      "text/plain": [
       "\u001b[0;31mSignature:\u001b[0m \u001b[0mqml\u001b[0m\u001b[0;34m.\u001b[0m\u001b[0mcond\u001b[0m\u001b[0;34m(\u001b[0m\u001b[0mcondition\u001b[0m\u001b[0;34m,\u001b[0m \u001b[0mtrue_fn\u001b[0m\u001b[0;34m,\u001b[0m \u001b[0mfalse_fn\u001b[0m\u001b[0;34m=\u001b[0m\u001b[0;32mNone\u001b[0m\u001b[0;34m)\u001b[0m\u001b[0;34m\u001b[0m\u001b[0;34m\u001b[0m\u001b[0m\n",
       "\u001b[0;31mSource:\u001b[0m   \n",
       "\u001b[0;32mdef\u001b[0m \u001b[0mcond\u001b[0m\u001b[0;34m(\u001b[0m\u001b[0mcondition\u001b[0m\u001b[0;34m,\u001b[0m \u001b[0mtrue_fn\u001b[0m\u001b[0;34m,\u001b[0m \u001b[0mfalse_fn\u001b[0m\u001b[0;34m=\u001b[0m\u001b[0;32mNone\u001b[0m\u001b[0;34m)\u001b[0m\u001b[0;34m:\u001b[0m\u001b[0;34m\u001b[0m\n",
       "\u001b[0;34m\u001b[0m    \u001b[0;34m\"\"\"Condition a quantum operation on the results of mid-circuit qubit measurements.\u001b[0m\n",
       "\u001b[0;34m\u001b[0m\n",
       "\u001b[0;34m    Support for using :func:`~.cond` is device-dependent. If a device doesn't\u001b[0m\n",
       "\u001b[0;34m    support mid-circuit measurements natively, then the QNode will apply the\u001b[0m\n",
       "\u001b[0;34m    :func:`defer_measurements` transform.\u001b[0m\n",
       "\u001b[0;34m\u001b[0m\n",
       "\u001b[0;34m    Args:\u001b[0m\n",
       "\u001b[0;34m        condition (.MeasurementValue[bool]): a conditional expression involving a mid-circuit\u001b[0m\n",
       "\u001b[0;34m           measurement value (see :func:`.pennylane.measure`)\u001b[0m\n",
       "\u001b[0;34m        true_fn (callable): The quantum function of PennyLane operation to\u001b[0m\n",
       "\u001b[0;34m            apply if ``condition`` is ``True``\u001b[0m\n",
       "\u001b[0;34m        false_fn (callable): The quantum function of PennyLane operation to\u001b[0m\n",
       "\u001b[0;34m            apply if ``condition`` is ``False``\u001b[0m\n",
       "\u001b[0;34m\u001b[0m\n",
       "\u001b[0;34m    Returns:\u001b[0m\n",
       "\u001b[0;34m        function: A new function that applies the conditional equivalent of ``true_fn``. The returned\u001b[0m\n",
       "\u001b[0;34m        function takes the same input arguments as ``true_fn``.\u001b[0m\n",
       "\u001b[0;34m\u001b[0m\n",
       "\u001b[0;34m    **Example**\u001b[0m\n",
       "\u001b[0;34m\u001b[0m\n",
       "\u001b[0;34m    .. code-block:: python3\u001b[0m\n",
       "\u001b[0;34m\u001b[0m\n",
       "\u001b[0;34m        dev = qml.device(\"default.qubit\", wires=3)\u001b[0m\n",
       "\u001b[0;34m\u001b[0m\n",
       "\u001b[0;34m        @qml.qnode(dev)\u001b[0m\n",
       "\u001b[0;34m        def qnode(x, y):\u001b[0m\n",
       "\u001b[0;34m            qml.Hadamard(0)\u001b[0m\n",
       "\u001b[0;34m            m_0 = qml.measure(0)\u001b[0m\n",
       "\u001b[0;34m            qml.cond(m_0, qml.RY)(x, wires=1)\u001b[0m\n",
       "\u001b[0;34m\u001b[0m\n",
       "\u001b[0;34m            qml.Hadamard(2)\u001b[0m\n",
       "\u001b[0;34m            qml.RY(-np.pi/2, wires=[2])\u001b[0m\n",
       "\u001b[0;34m            m_1 = qml.measure(2)\u001b[0m\n",
       "\u001b[0;34m            qml.cond(m_1 == 0, qml.RX)(y, wires=1)\u001b[0m\n",
       "\u001b[0;34m            return qml.expval(qml.PauliZ(1))\u001b[0m\n",
       "\u001b[0;34m\u001b[0m\n",
       "\u001b[0;34m    .. code-block :: pycon\u001b[0m\n",
       "\u001b[0;34m\u001b[0m\n",
       "\u001b[0;34m        >>> first_par = np.array(0.3, requires_grad=True)\u001b[0m\n",
       "\u001b[0;34m        >>> sec_par = np.array(1.23, requires_grad=True)\u001b[0m\n",
       "\u001b[0;34m        >>> qnode(first_par, sec_par)\u001b[0m\n",
       "\u001b[0;34m        tensor(0.32677361, requires_grad=True)\u001b[0m\n",
       "\u001b[0;34m\u001b[0m\n",
       "\u001b[0;34m    .. note::\u001b[0m\n",
       "\u001b[0;34m\u001b[0m\n",
       "\u001b[0;34m        If the first argument of ``cond`` is a measurement value (e.g., ``m_0``\u001b[0m\n",
       "\u001b[0;34m        in ``qml.cond(m_0, qml.RY)``), then ``m_0 == 1`` is considered\u001b[0m\n",
       "\u001b[0;34m        internally.\u001b[0m\n",
       "\u001b[0;34m\u001b[0m\n",
       "\u001b[0;34m    .. warning::\u001b[0m\n",
       "\u001b[0;34m\u001b[0m\n",
       "\u001b[0;34m        The following are not supported as the ``condition`` argument:\u001b[0m\n",
       "\u001b[0;34m\u001b[0m\n",
       "\u001b[0;34m        * Expressions that contain multiple measurement values;\u001b[0m\n",
       "\u001b[0;34m        * Expressions with boolean logic flow using operators like ``and``,\u001b[0m\n",
       "\u001b[0;34m          ``or`` and ``not``.\u001b[0m\n",
       "\u001b[0;34m\u001b[0m\n",
       "\u001b[0;34m        While such statements may not result in errors, they may result in\u001b[0m\n",
       "\u001b[0;34m        incorrect behaviour.\u001b[0m\n",
       "\u001b[0;34m\u001b[0m\n",
       "\u001b[0;34m\u001b[0m\n",
       "\u001b[0;34m    .. details::\u001b[0m\n",
       "\u001b[0;34m        :title: Usage Details\u001b[0m\n",
       "\u001b[0;34m\u001b[0m\n",
       "\u001b[0;34m        **Conditional quantum functions**\u001b[0m\n",
       "\u001b[0;34m\u001b[0m\n",
       "\u001b[0;34m        The ``cond`` transform allows conditioning quantum functions too:\u001b[0m\n",
       "\u001b[0;34m\u001b[0m\n",
       "\u001b[0;34m        .. code-block:: python3\u001b[0m\n",
       "\u001b[0;34m\u001b[0m\n",
       "\u001b[0;34m            dev = qml.device(\"default.qubit\", wires=2)\u001b[0m\n",
       "\u001b[0;34m\u001b[0m\n",
       "\u001b[0;34m            def qfunc(par, wires):\u001b[0m\n",
       "\u001b[0;34m                qml.Hadamard(wires[0])\u001b[0m\n",
       "\u001b[0;34m                qml.RY(par, wires[0])\u001b[0m\n",
       "\u001b[0;34m\u001b[0m\n",
       "\u001b[0;34m            @qml.qnode(dev)\u001b[0m\n",
       "\u001b[0;34m            def qnode(x):\u001b[0m\n",
       "\u001b[0;34m                qml.Hadamard(0)\u001b[0m\n",
       "\u001b[0;34m                m_0 = qml.measure(0)\u001b[0m\n",
       "\u001b[0;34m                qml.cond(m_0, qfunc)(x, wires=[1])\u001b[0m\n",
       "\u001b[0;34m                return qml.expval(qml.PauliZ(1))\u001b[0m\n",
       "\u001b[0;34m\u001b[0m\n",
       "\u001b[0;34m        .. code-block :: pycon\u001b[0m\n",
       "\u001b[0;34m\u001b[0m\n",
       "\u001b[0;34m            >>> par = np.array(0.3, requires_grad=True)\u001b[0m\n",
       "\u001b[0;34m            >>> qnode(par)\u001b[0m\n",
       "\u001b[0;34m            tensor(0.3522399, requires_grad=True)\u001b[0m\n",
       "\u001b[0;34m\u001b[0m\n",
       "\u001b[0;34m        **Passing two quantum functions**\u001b[0m\n",
       "\u001b[0;34m\u001b[0m\n",
       "\u001b[0;34m        In the qubit model, single-qubit measurements may result in one of two\u001b[0m\n",
       "\u001b[0;34m        outcomes. Such measurement outcomes may then be used to create\u001b[0m\n",
       "\u001b[0;34m        conditional expressions.\u001b[0m\n",
       "\u001b[0;34m\u001b[0m\n",
       "\u001b[0;34m        According to the truth value of the conditional expression passed to\u001b[0m\n",
       "\u001b[0;34m        ``cond``, the transform can apply a quantum function in both the\u001b[0m\n",
       "\u001b[0;34m        ``True`` and ``False`` case:\u001b[0m\n",
       "\u001b[0;34m\u001b[0m\n",
       "\u001b[0;34m        .. code-block:: python3\u001b[0m\n",
       "\u001b[0;34m\u001b[0m\n",
       "\u001b[0;34m            dev = qml.device(\"default.qubit\", wires=2)\u001b[0m\n",
       "\u001b[0;34m\u001b[0m\n",
       "\u001b[0;34m            def qfunc1(x, wires):\u001b[0m\n",
       "\u001b[0;34m                qml.Hadamard(wires[0])\u001b[0m\n",
       "\u001b[0;34m                qml.RY(x, wires[0])\u001b[0m\n",
       "\u001b[0;34m\u001b[0m\n",
       "\u001b[0;34m            def qfunc2(x, wires):\u001b[0m\n",
       "\u001b[0;34m                qml.Hadamard(wires[0])\u001b[0m\n",
       "\u001b[0;34m                qml.RZ(x, wires[0])\u001b[0m\n",
       "\u001b[0;34m\u001b[0m\n",
       "\u001b[0;34m            @qml.qnode(dev)\u001b[0m\n",
       "\u001b[0;34m            def qnode1(x):\u001b[0m\n",
       "\u001b[0;34m                qml.Hadamard(0)\u001b[0m\n",
       "\u001b[0;34m                m_0 = qml.measure(0)\u001b[0m\n",
       "\u001b[0;34m                qml.cond(m_0, qfunc1, qfunc2)(x, wires=[1])\u001b[0m\n",
       "\u001b[0;34m                return qml.expval(qml.PauliZ(1))\u001b[0m\n",
       "\u001b[0;34m\u001b[0m\n",
       "\u001b[0;34m        .. code-block :: pycon\u001b[0m\n",
       "\u001b[0;34m\u001b[0m\n",
       "\u001b[0;34m            >>> par = np.array(0.3, requires_grad=True)\u001b[0m\n",
       "\u001b[0;34m            >>> qnode1(par)\u001b[0m\n",
       "\u001b[0;34m            tensor(-0.1477601, requires_grad=True)\u001b[0m\n",
       "\u001b[0;34m\u001b[0m\n",
       "\u001b[0;34m        The previous QNode is equivalent to using ``cond`` twice, inverting the\u001b[0m\n",
       "\u001b[0;34m        conditional expression in the second case using the ``~`` unary\u001b[0m\n",
       "\u001b[0;34m        operator:\u001b[0m\n",
       "\u001b[0;34m\u001b[0m\n",
       "\u001b[0;34m        .. code-block:: python3\u001b[0m\n",
       "\u001b[0;34m\u001b[0m\n",
       "\u001b[0;34m            @qml.qnode(dev)\u001b[0m\n",
       "\u001b[0;34m            def qnode2(x):\u001b[0m\n",
       "\u001b[0;34m                qml.Hadamard(0)\u001b[0m\n",
       "\u001b[0;34m                m_0 = qml.measure(0)\u001b[0m\n",
       "\u001b[0;34m                qml.cond(m_0, qfunc1)(x, wires=[1])\u001b[0m\n",
       "\u001b[0;34m                qml.cond(~m_0, qfunc2)(x, wires=[1])\u001b[0m\n",
       "\u001b[0;34m                return qml.expval(qml.PauliZ(1))\u001b[0m\n",
       "\u001b[0;34m\u001b[0m\n",
       "\u001b[0;34m        .. code-block :: pycon\u001b[0m\n",
       "\u001b[0;34m\u001b[0m\n",
       "\u001b[0;34m            >>> qnode2(par)\u001b[0m\n",
       "\u001b[0;34m            tensor(-0.1477601, requires_grad=True)\u001b[0m\n",
       "\u001b[0;34m\u001b[0m\n",
       "\u001b[0;34m        **Quantum functions with different signatures**\u001b[0m\n",
       "\u001b[0;34m\u001b[0m\n",
       "\u001b[0;34m        It may be that the two quantum functions passed to ``qml.cond`` have\u001b[0m\n",
       "\u001b[0;34m        different signatures. In such a case, ``lambda`` functions taking no\u001b[0m\n",
       "\u001b[0;34m        arguments can be used with Python closure:\u001b[0m\n",
       "\u001b[0;34m\u001b[0m\n",
       "\u001b[0;34m        .. code-block:: python3\u001b[0m\n",
       "\u001b[0;34m\u001b[0m\n",
       "\u001b[0;34m            dev = qml.device(\"default.qubit\", wires=2)\u001b[0m\n",
       "\u001b[0;34m\u001b[0m\n",
       "\u001b[0;34m            def qfunc1(x, wire):\u001b[0m\n",
       "\u001b[0;34m                qml.Hadamard(wire)\u001b[0m\n",
       "\u001b[0;34m                qml.RY(x, wire)\u001b[0m\n",
       "\u001b[0;34m\u001b[0m\n",
       "\u001b[0;34m            def qfunc2(x, y, z, wire):\u001b[0m\n",
       "\u001b[0;34m                qml.Hadamard(wire)\u001b[0m\n",
       "\u001b[0;34m                qml.Rot(x, y, z, wire)\u001b[0m\n",
       "\u001b[0;34m\u001b[0m\n",
       "\u001b[0;34m            @qml.qnode(dev)\u001b[0m\n",
       "\u001b[0;34m            def qnode(a, x, y, z):\u001b[0m\n",
       "\u001b[0;34m                qml.Hadamard(0)\u001b[0m\n",
       "\u001b[0;34m                m_0 = qml.measure(0)\u001b[0m\n",
       "\u001b[0;34m                qml.cond(m_0, lambda: qfunc1(a, wire=1), lambda: qfunc2(x, y, z, wire=1))()\u001b[0m\n",
       "\u001b[0;34m                return qml.expval(qml.PauliZ(1))\u001b[0m\n",
       "\u001b[0;34m\u001b[0m\n",
       "\u001b[0;34m        .. code-block :: pycon\u001b[0m\n",
       "\u001b[0;34m\u001b[0m\n",
       "\u001b[0;34m            >>> par = np.array(0.3, requires_grad=True)\u001b[0m\n",
       "\u001b[0;34m            >>> x = np.array(1.2, requires_grad=True)\u001b[0m\n",
       "\u001b[0;34m            >>> y = np.array(1.1, requires_grad=True)\u001b[0m\n",
       "\u001b[0;34m            >>> z = np.array(0.3, requires_grad=True)\u001b[0m\n",
       "\u001b[0;34m            >>> qnode(par, x, y, z)\u001b[0m\n",
       "\u001b[0;34m            tensor(-0.30922805, requires_grad=True)\u001b[0m\n",
       "\u001b[0;34m    \"\"\"\u001b[0m\u001b[0;34m\u001b[0m\n",
       "\u001b[0;34m\u001b[0m    \u001b[0;32mif\u001b[0m \u001b[0mcallable\u001b[0m\u001b[0;34m(\u001b[0m\u001b[0mtrue_fn\u001b[0m\u001b[0;34m)\u001b[0m\u001b[0;34m:\u001b[0m\u001b[0;34m\u001b[0m\n",
       "\u001b[0;34m\u001b[0m        \u001b[0;31m# We assume that the callable is an operation or a quantum function\u001b[0m\u001b[0;34m\u001b[0m\n",
       "\u001b[0;34m\u001b[0m        \u001b[0mwith_meas_err\u001b[0m \u001b[0;34m=\u001b[0m \u001b[0;34m(\u001b[0m\u001b[0;34m\u001b[0m\n",
       "\u001b[0;34m\u001b[0m            \u001b[0;34m\"Only quantum functions that contain no measurements can be applied conditionally.\"\u001b[0m\u001b[0;34m\u001b[0m\n",
       "\u001b[0;34m\u001b[0m        \u001b[0;34m)\u001b[0m\u001b[0;34m\u001b[0m\n",
       "\u001b[0;34m\u001b[0m\u001b[0;34m\u001b[0m\n",
       "\u001b[0;34m\u001b[0m        \u001b[0;34m@\u001b[0m\u001b[0mwraps\u001b[0m\u001b[0;34m(\u001b[0m\u001b[0mtrue_fn\u001b[0m\u001b[0;34m)\u001b[0m\u001b[0;34m\u001b[0m\n",
       "\u001b[0;34m\u001b[0m        \u001b[0;32mdef\u001b[0m \u001b[0mwrapper\u001b[0m\u001b[0;34m(\u001b[0m\u001b[0;34m*\u001b[0m\u001b[0margs\u001b[0m\u001b[0;34m,\u001b[0m \u001b[0;34m**\u001b[0m\u001b[0mkwargs\u001b[0m\u001b[0;34m)\u001b[0m\u001b[0;34m:\u001b[0m\u001b[0;34m\u001b[0m\n",
       "\u001b[0;34m\u001b[0m            \u001b[0;31m# We assume that the callable is a quantum function\u001b[0m\u001b[0;34m\u001b[0m\n",
       "\u001b[0;34m\u001b[0m\u001b[0;34m\u001b[0m\n",
       "\u001b[0;34m\u001b[0m            \u001b[0;31m# 1. Apply true_fn conditionally\u001b[0m\u001b[0;34m\u001b[0m\n",
       "\u001b[0;34m\u001b[0m            \u001b[0mqscript\u001b[0m \u001b[0;34m=\u001b[0m \u001b[0mmake_qscript\u001b[0m\u001b[0;34m(\u001b[0m\u001b[0mtrue_fn\u001b[0m\u001b[0;34m)\u001b[0m\u001b[0;34m(\u001b[0m\u001b[0;34m*\u001b[0m\u001b[0margs\u001b[0m\u001b[0;34m,\u001b[0m \u001b[0;34m**\u001b[0m\u001b[0mkwargs\u001b[0m\u001b[0;34m)\u001b[0m\u001b[0;34m\u001b[0m\n",
       "\u001b[0;34m\u001b[0m\u001b[0;34m\u001b[0m\n",
       "\u001b[0;34m\u001b[0m            \u001b[0;32mif\u001b[0m \u001b[0mqscript\u001b[0m\u001b[0;34m.\u001b[0m\u001b[0mmeasurements\u001b[0m\u001b[0;34m:\u001b[0m\u001b[0;34m\u001b[0m\n",
       "\u001b[0;34m\u001b[0m                \u001b[0;32mraise\u001b[0m \u001b[0mConditionalTransformError\u001b[0m\u001b[0;34m(\u001b[0m\u001b[0mwith_meas_err\u001b[0m\u001b[0;34m)\u001b[0m\u001b[0;34m\u001b[0m\n",
       "\u001b[0;34m\u001b[0m\u001b[0;34m\u001b[0m\n",
       "\u001b[0;34m\u001b[0m            \u001b[0;32mfor\u001b[0m \u001b[0mop\u001b[0m \u001b[0;32min\u001b[0m \u001b[0mqscript\u001b[0m\u001b[0;34m.\u001b[0m\u001b[0moperations\u001b[0m\u001b[0;34m:\u001b[0m\u001b[0;34m\u001b[0m\n",
       "\u001b[0;34m\u001b[0m                \u001b[0mConditional\u001b[0m\u001b[0;34m(\u001b[0m\u001b[0mcondition\u001b[0m\u001b[0;34m,\u001b[0m \u001b[0mop\u001b[0m\u001b[0;34m)\u001b[0m\u001b[0;34m\u001b[0m\n",
       "\u001b[0;34m\u001b[0m\u001b[0;34m\u001b[0m\n",
       "\u001b[0;34m\u001b[0m            \u001b[0;32mif\u001b[0m \u001b[0mfalse_fn\u001b[0m \u001b[0;32mis\u001b[0m \u001b[0;32mnot\u001b[0m \u001b[0;32mNone\u001b[0m\u001b[0;34m:\u001b[0m\u001b[0;34m\u001b[0m\n",
       "\u001b[0;34m\u001b[0m                \u001b[0;31m# 2. Apply false_fn conditionally\u001b[0m\u001b[0;34m\u001b[0m\n",
       "\u001b[0;34m\u001b[0m                \u001b[0melse_qscript\u001b[0m \u001b[0;34m=\u001b[0m \u001b[0mmake_qscript\u001b[0m\u001b[0;34m(\u001b[0m\u001b[0mfalse_fn\u001b[0m\u001b[0;34m)\u001b[0m\u001b[0;34m(\u001b[0m\u001b[0;34m*\u001b[0m\u001b[0margs\u001b[0m\u001b[0;34m,\u001b[0m \u001b[0;34m**\u001b[0m\u001b[0mkwargs\u001b[0m\u001b[0;34m)\u001b[0m\u001b[0;34m\u001b[0m\n",
       "\u001b[0;34m\u001b[0m\u001b[0;34m\u001b[0m\n",
       "\u001b[0;34m\u001b[0m                \u001b[0;32mif\u001b[0m \u001b[0melse_qscript\u001b[0m\u001b[0;34m.\u001b[0m\u001b[0mmeasurements\u001b[0m\u001b[0;34m:\u001b[0m\u001b[0;34m\u001b[0m\n",
       "\u001b[0;34m\u001b[0m                    \u001b[0;32mraise\u001b[0m \u001b[0mConditionalTransformError\u001b[0m\u001b[0;34m(\u001b[0m\u001b[0mwith_meas_err\u001b[0m\u001b[0;34m)\u001b[0m\u001b[0;34m\u001b[0m\n",
       "\u001b[0;34m\u001b[0m\u001b[0;34m\u001b[0m\n",
       "\u001b[0;34m\u001b[0m                \u001b[0minverted_condition\u001b[0m \u001b[0;34m=\u001b[0m \u001b[0;34m~\u001b[0m\u001b[0mcondition\u001b[0m\u001b[0;34m\u001b[0m\n",
       "\u001b[0;34m\u001b[0m\u001b[0;34m\u001b[0m\n",
       "\u001b[0;34m\u001b[0m                \u001b[0;32mfor\u001b[0m \u001b[0mop\u001b[0m \u001b[0;32min\u001b[0m \u001b[0melse_qscript\u001b[0m\u001b[0;34m.\u001b[0m\u001b[0moperations\u001b[0m\u001b[0;34m:\u001b[0m\u001b[0;34m\u001b[0m\n",
       "\u001b[0;34m\u001b[0m                    \u001b[0mConditional\u001b[0m\u001b[0;34m(\u001b[0m\u001b[0minverted_condition\u001b[0m\u001b[0;34m,\u001b[0m \u001b[0mop\u001b[0m\u001b[0;34m)\u001b[0m\u001b[0;34m\u001b[0m\n",
       "\u001b[0;34m\u001b[0m\u001b[0;34m\u001b[0m\n",
       "\u001b[0;34m\u001b[0m    \u001b[0;32melse\u001b[0m\u001b[0;34m:\u001b[0m\u001b[0;34m\u001b[0m\n",
       "\u001b[0;34m\u001b[0m        \u001b[0;32mraise\u001b[0m \u001b[0mConditionalTransformError\u001b[0m\u001b[0;34m(\u001b[0m\u001b[0;34m\u001b[0m\n",
       "\u001b[0;34m\u001b[0m            \u001b[0;34m\"Only operations and quantum functions with no measurements can be applied conditionally.\"\u001b[0m\u001b[0;34m\u001b[0m\n",
       "\u001b[0;34m\u001b[0m        \u001b[0;34m)\u001b[0m\u001b[0;34m\u001b[0m\n",
       "\u001b[0;34m\u001b[0m\u001b[0;34m\u001b[0m\n",
       "\u001b[0;34m\u001b[0m    \u001b[0;32mreturn\u001b[0m \u001b[0mwrapper\u001b[0m\u001b[0;34m\u001b[0m\u001b[0;34m\u001b[0m\u001b[0m\n",
       "\u001b[0;31mFile:\u001b[0m      /opt/conda/envs/pennylane/lib/python3.9/site-packages/pennylane/transforms/condition.py\n",
       "\u001b[0;31mType:\u001b[0m      function\n"
      ]
     },
     "metadata": {},
     "output_type": "display_data"
    }
   ],
   "source": [
    "qml.cond??"
   ]
  },
  {
   "cell_type": "code",
   "execution_count": 112,
   "id": "5d9b3913-703f-4067-af9c-9d022bf83ada",
   "metadata": {},
   "outputs": [],
   "source": [
    "@qml.qnode(d1)\n",
    "def test2():\n",
    "    qml.Hadamard(0)\n",
    "    qml.PauliX(1)\n",
    "    m = qml.probs(wires=[0,1])\n",
    "    print(m)"
   ]
  },
  {
   "cell_type": "code",
   "execution_count": 113,
   "id": "5833fbe6-88bd-4aa0-958d-963d4ddec3c6",
   "metadata": {},
   "outputs": [
    {
     "name": "stdout",
     "output_type": "stream",
     "text": [
      "probs(wires=[0, 1])\n"
     ]
    },
    {
     "ename": "QuantumFunctionError",
     "evalue": "A quantum function must return either a single measurement, or a nonempty sequence of measurements.",
     "output_type": "error",
     "traceback": [
      "\u001b[0;31m---------------------------------------------------------------------------\u001b[0m",
      "\u001b[0;31mQuantumFunctionError\u001b[0m                      Traceback (most recent call last)",
      "\u001b[0;32m/tmp/ipykernel_52/2251835413.py\u001b[0m in \u001b[0;36m<cell line: 1>\u001b[0;34m()\u001b[0m\n\u001b[0;32m----> 1\u001b[0;31m \u001b[0mtest2\u001b[0m\u001b[0;34m(\u001b[0m\u001b[0;34m)\u001b[0m\u001b[0;34m\u001b[0m\u001b[0;34m\u001b[0m\u001b[0m\n\u001b[0m",
      "\u001b[0;32m/opt/conda/envs/pennylane/lib/python3.9/site-packages/pennylane/qnode.py\u001b[0m in \u001b[0;36m__call__\u001b[0;34m(self, *args, **kwargs)\u001b[0m\n\u001b[1;32m    798\u001b[0m \u001b[0;34m\u001b[0m\u001b[0m\n\u001b[1;32m    799\u001b[0m         \u001b[0;31m# construct the tape\u001b[0m\u001b[0;34m\u001b[0m\u001b[0;34m\u001b[0m\u001b[0m\n\u001b[0;32m--> 800\u001b[0;31m         \u001b[0mself\u001b[0m\u001b[0;34m.\u001b[0m\u001b[0mconstruct\u001b[0m\u001b[0;34m(\u001b[0m\u001b[0margs\u001b[0m\u001b[0;34m,\u001b[0m \u001b[0mkwargs\u001b[0m\u001b[0;34m)\u001b[0m\u001b[0;34m\u001b[0m\u001b[0;34m\u001b[0m\u001b[0m\n\u001b[0m\u001b[1;32m    801\u001b[0m \u001b[0;34m\u001b[0m\u001b[0m\n\u001b[1;32m    802\u001b[0m         \u001b[0mcache\u001b[0m \u001b[0;34m=\u001b[0m \u001b[0mself\u001b[0m\u001b[0;34m.\u001b[0m\u001b[0mexecute_kwargs\u001b[0m\u001b[0;34m.\u001b[0m\u001b[0mget\u001b[0m\u001b[0;34m(\u001b[0m\u001b[0;34m\"cache\"\u001b[0m\u001b[0;34m,\u001b[0m \u001b[0;32mFalse\u001b[0m\u001b[0;34m)\u001b[0m\u001b[0;34m\u001b[0m\u001b[0;34m\u001b[0m\u001b[0m\n",
      "\u001b[0;32m/opt/conda/envs/pennylane/lib/python3.9/site-packages/pennylane/qnode.py\u001b[0m in \u001b[0;36mconstruct\u001b[0;34m(self, args, kwargs)\u001b[0m\n\u001b[1;32m    727\u001b[0m             \u001b[0misinstance\u001b[0m\u001b[0;34m(\u001b[0m\u001b[0mm\u001b[0m\u001b[0;34m,\u001b[0m \u001b[0mqml\u001b[0m\u001b[0;34m.\u001b[0m\u001b[0mmeasurements\u001b[0m\u001b[0;34m.\u001b[0m\u001b[0mMeasurementProcess\u001b[0m\u001b[0;34m)\u001b[0m \u001b[0;32mfor\u001b[0m \u001b[0mm\u001b[0m \u001b[0;32min\u001b[0m \u001b[0mmeasurement_processes\u001b[0m\u001b[0;34m\u001b[0m\u001b[0;34m\u001b[0m\u001b[0m\n\u001b[1;32m    728\u001b[0m         ):\n\u001b[0;32m--> 729\u001b[0;31m             raise qml.QuantumFunctionError(\n\u001b[0m\u001b[1;32m    730\u001b[0m                 \u001b[0;34m\"A quantum function must return either a single measurement, \"\u001b[0m\u001b[0;34m\u001b[0m\u001b[0;34m\u001b[0m\u001b[0m\n\u001b[1;32m    731\u001b[0m                 \u001b[0;34m\"or a nonempty sequence of measurements.\"\u001b[0m\u001b[0;34m\u001b[0m\u001b[0;34m\u001b[0m\u001b[0m\n",
      "\u001b[0;31mQuantumFunctionError\u001b[0m: A quantum function must return either a single measurement, or a nonempty sequence of measurements."
     ]
    }
   ],
   "source": [
    "test2()"
   ]
  },
  {
   "cell_type": "code",
   "execution_count": 166,
   "id": "0282da64-24dc-4a54-80ea-048df6e07431",
   "metadata": {},
   "outputs": [],
   "source": [
    "de = qml.device(\"default.qubit\", wires=3)\n",
    "@qml.qnode(de)\n",
    "def test3(a, b, c):\n",
    "    qml.U3(a, b, c, wires=0)\n",
    "    return qml.probs(0)"
   ]
  },
  {
   "cell_type": "code",
   "execution_count": 167,
   "id": "3a7768a8-4add-43f6-9332-cc53c6816315",
   "metadata": {},
   "outputs": [
    {
     "data": {
      "text/plain": [
       "tensor([0.99750208, 0.00249792], requires_grad=True)"
      ]
     },
     "execution_count": 167,
     "metadata": {},
     "output_type": "execute_result"
    }
   ],
   "source": [
    "test3(0.1, 0.2, 0.3)"
   ]
  },
  {
   "cell_type": "code",
   "execution_count": null,
   "id": "411b9023-7a1c-4f42-82f8-ea4172969104",
   "metadata": {},
   "outputs": [],
   "source": []
  }
 ],
 "metadata": {
  "kernelspec": {
   "display_name": "PennyLane",
   "language": "python",
   "name": "pennylane"
  },
  "language_info": {
   "codemirror_mode": {
    "name": "ipython",
    "version": 3
   },
   "file_extension": ".py",
   "mimetype": "text/x-python",
   "name": "python",
   "nbconvert_exporter": "python",
   "pygments_lexer": "ipython3",
   "version": "3.9.15"
  }
 },
 "nbformat": 4,
 "nbformat_minor": 5
}
