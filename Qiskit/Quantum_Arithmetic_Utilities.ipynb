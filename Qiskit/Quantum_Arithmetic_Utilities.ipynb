{
 "cells": [
  {
   "cell_type": "code",
   "execution_count": 1,
   "id": "20a18ac6-7f1a-4ad3-9f16-929a61459bc0",
   "metadata": {
    "tags": []
   },
   "outputs": [],
   "source": [
    "# Importing standard Qiskit libraries\n",
    "from qiskit import QuantumCircuit, transpile\n",
    "from qiskit.tools.jupyter import *\n",
    "from qiskit.visualization import *\n",
    "from ibm_quantum_widgets import *\n",
    "from qiskit_aer import AerSimulator\n",
    "\n",
    "# qiskit-ibmq-provider has been deprecated.\n",
    "# Please see the Migration Guides in https://ibm.biz/provider_migration_guide for more detail.\n",
    "from qiskit_ibm_runtime import QiskitRuntimeService, Sampler, Estimator, Session, Options\n",
    "\n",
    "# Loading your IBM Quantum account(s)\n",
    "service = QiskitRuntimeService(channel=\"ibm_quantum\")\n",
    "\n",
    "# Invoke a primitive inside a session. For more details see https://qiskit.org/documentation/partners/qiskit_ibm_runtime/tutorials.html\n",
    "# with Session(backend=service.backend(\"ibmq_qasm_simulator\")):\n",
    "#     result = Sampler().run(circuits).result()"
   ]
  },
  {
   "cell_type": "code",
   "execution_count": 2,
   "id": "bc74aa16-33a9-49e7-a2cf-f97d443cd770",
   "metadata": {
    "tags": []
   },
   "outputs": [],
   "source": [
    "from math import pi\n",
    "from qiskit.providers.ibmq import *\n",
    "from qiskit import IBMQ"
   ]
  },
  {
   "cell_type": "code",
   "execution_count": 3,
   "id": "0a783152-0569-4967-a733-34bbee761d9d",
   "metadata": {
    "tags": []
   },
   "outputs": [],
   "source": [
    "def prepare_state(bit_string : str):\n",
    "    \"\"\"Applies PauliX gates to qubits wherever there is a computational 1 state in the input\"\"\"\n",
    "    bit_string = bit_string[::-1]\n",
    "    n = len(bit_string)\n",
    "    qc = QuantumCircuit(n)\n",
    "    for i, s in zip(range(n), bit_string):\n",
    "        if s == '1':\n",
    "            qc.x(i)\n",
    "    return qc\n",
    "\n",
    "def equalize_lengths(str1, str2):\n",
    "    \"\"\"Pads zeroes to the most significant bit of the number with lesser number of bits\"\"\"\n",
    "    p,q = len(str1), len(str2)\n",
    "    \n",
    "    if p>q:\n",
    "        str2 = '0'*(p-q) + str2\n",
    "    elif q>p:\n",
    "        str1 = '0'*(q-p) + str1\n",
    "        \n",
    "    return str1, str2\n",
    "\n",
    "# QFT from scratch\n",
    "def qft_rotations(circuit, n:int):\n",
    "    \"\"\"Performs qft on the first n qubits in circuit (without swaps)\"\"\"\n",
    "    if n == 0:\n",
    "        return circuit\n",
    "    n -= 1\n",
    "    circuit.h(n)\n",
    "    for qubit in range(n):\n",
    "        circuit.cp(pi/2**(n-qubit), qubit, n)\n",
    "    # At the end of our function, we call the same function again on\n",
    "    # the next qubits (we reduced n by one earlier in the function)\n",
    "    qft_rotations(circuit, n)\n",
    "\n",
    "def swap_registers(circuit, n:int):\n",
    "    for qubit in range(n//2):\n",
    "        circuit.swap(qubit, n-qubit-1)\n",
    "    return circuit\n",
    "\n",
    "def qft(circuit, n:int, do_swaps:bool=True):\n",
    "    \"\"\"QFT on the first n qubits in circuit\"\"\"\n",
    "    qft_rotations(circuit, n)\n",
    "    if do_swaps:\n",
    "        swap_registers(circuit, n)\n",
    "    return circuit\n",
    "\n",
    "def inverse_qft(circuit, n:int, do_swaps:bool=True):\n",
    "    \"\"\"Does the inverse QFT on the first n qubits in circuit\"\"\"\n",
    "    if do_swaps:\n",
    "        # First we create a QFT circuit of the correct size:\n",
    "        qft_circ = qft(QuantumCircuit(n), n)\n",
    "        # Then we take the inverse of this circuit\n",
    "        invqft_circ = qft_circ.inverse()\n",
    "    else:\n",
    "        qft_circ = qft(QuantumCircuit(n), n, do_swaps=False)\n",
    "        invqft_circ = qft_circ.inverse()\n",
    "    # And add it to the first n qubits in our existing circuit\n",
    "    circuit.append(invqft_circ, circuit.qubits[:n])\n",
    "    return circuit\n",
    "    #return circuit.decompose() # .decompose() allows us to see the individual gates"
   ]
  },
  {
   "cell_type": "code",
   "execution_count": 4,
   "id": "e7909ed6-5110-40d2-9140-e4c06526bebb",
   "metadata": {
    "tags": []
   },
   "outputs": [],
   "source": [
    "def QFT_ADD(num1:str, num2:str):\n",
    "    \"\"\"Using the QFT that we built above to build a circuit that stores the sum of two numbers in the output register\"\"\"\n",
    "    \n",
    "    p,q = len(num1), len(num2)\n",
    "    \n",
    "    if p!=q:\n",
    "        num1, num2 = equalize_lengths(num1, num2)\n",
    "    n = len(num1)    \n",
    "    \n",
    "    qft_circ_1 = QuantumCircuit(2*n+1,n+1)\n",
    "\n",
    "    qft_circ_1.append(prepare_state(num1), list(range(n)))\n",
    "    qft_circ_1.append(prepare_state(num2), list(range(n,2*n)))\n",
    "\n",
    "    qft_circ_1.barrier()\n",
    "\n",
    "    qft_circ_1.append(qft(QuantumCircuit(n+1), n+1, do_swaps=False), list(range(n,2*n+1)))\n",
    "\n",
    "    qft_circ_1.barrier()\n",
    "\n",
    "    for k in range(n):\n",
    "        theta_1 = 2*pi / 2**(k+2)\n",
    "        qft_circ_1.cp(theta_1, control_qubit=n-k-1, target_qubit=2*n)\n",
    "\n",
    "    for i in range(n):\n",
    "        for j in range(n-i):\n",
    "            theta = 2*pi / 2**(j+1)\n",
    "            qft_circ_1.cp(theta, control_qubit=n-i-j-1, target_qubit=2*n-i-1)\n",
    "\n",
    "    qft_circ_1.barrier()\n",
    "\n",
    "    qft_circ_1.append(inverse_qft(QuantumCircuit(n+1), n+1, do_swaps=False), list(range(n,2*n+1)))\n",
    "\n",
    "    qft_circ_1.barrier()\n",
    "\n",
    "    qft_circ_1.measure(list(range(n,2*n+1)), list(range(n+1)))\n",
    "    \n",
    "    return qft_circ_1"
   ]
  },
  {
   "cell_type": "code",
   "execution_count": 5,
   "id": "e53761c5-cff7-426c-b2f3-35abddc063e5",
   "metadata": {
    "tags": []
   },
   "outputs": [],
   "source": [
    "def qft_mult_rotations(n):\n",
    "    \n",
    "    q_input1 = QuantumRegister(n, name='input1')\n",
    "    q_input2 = QuantumRegister(n, name='input2')\n",
    "    q_output = QuantumRegister(2*n, name='output')\n",
    "    \n",
    "    qc = QuantumCircuit(q_input1, q_input2, q_output)\n",
    "\n",
    "    for j in range(1,n+1):\n",
    "        for i in range(1, n+1):\n",
    "            for k in range(1,2*n+1):\n",
    "                phase = 2*pi / 2**(i+j+k-2*n)\n",
    "                gate = PhaseGate(phase).control(2)\n",
    "                qc.append(gate, [q_input1[n-j], q_input2[n-i], q_output[k-1]])\n",
    "                \n",
    "    return qc"
   ]
  },
  {
   "cell_type": "code",
   "execution_count": 6,
   "id": "3d3cbbdd-74c9-482c-805d-f7aa27616dd9",
   "metadata": {
    "tags": []
   },
   "outputs": [],
   "source": [
    "def QFT_MULTIPLY(num1:str, num2:str):\n",
    "    \"\"\"Using the QFT that we built above to build a circuit that stores the product of two numbers in the output register\"\"\"\n",
    "    \n",
    "    if len(num1) != len(num2):\n",
    "        num1, num2 = equalize_lengths(num1, num2)\n",
    "    n = len(num1)\n",
    "\n",
    "    q1 = QuantumRegister(n, name='input1')\n",
    "    q2 = QuantumRegister(n, name='input2')\n",
    "    q3 = QuantumRegister(2*n, name='output')\n",
    "    c = ClassicalRegister(2*n, name='meas')\n",
    "    qc = QuantumCircuit(q1,q2,q3,c)\n",
    "\n",
    "    qc.append(prepare_state(num1), list(range(n)))\n",
    "    qc.append(prepare_state(num2), list(range(n,2*n)))\n",
    "\n",
    "    qc.barrier()\n",
    "    qc.append(qft(QuantumCircuit(2*n), 2*n, do_swaps=False), list(range(2*n, 4*n)))\n",
    "    qc.barrier()\n",
    "\n",
    "    qc.append(qft_mult_rotations(n), list(range(4*n)))\n",
    "\n",
    "    qc.barrier()\n",
    "    qc.append(inverse_qft(QuantumCircuit(2*n), 2*n, do_swaps=False), list(range(2*n, 4*n)))\n",
    "    qc.barrier()\n",
    "\n",
    "    qc.measure(list(range(2*n, 4*n)), list(range(2*n)))\n",
    "    \n",
    "    return qc"
   ]
  },
  {
   "cell_type": "code",
   "execution_count": null,
   "id": "9f52bb78-0c14-4305-b57b-9a4fe1ca4b52",
   "metadata": {},
   "outputs": [],
   "source": []
  }
 ],
 "metadata": {
  "kernelspec": {
   "display_name": "Python 3 (ipykernel)",
   "language": "python",
   "name": "python3"
  },
  "language_info": {
   "codemirror_mode": {
    "name": "ipython",
    "version": 3
   },
   "file_extension": ".py",
   "mimetype": "text/x-python",
   "name": "python",
   "nbconvert_exporter": "python",
   "pygments_lexer": "ipython3",
   "version": "3.10.8"
  },
  "widgets": {
   "application/vnd.jupyter.widget-state+json": {
    "state": {
     "12f04b3bb4ca4ccd86a125d03d64ad86": {
      "model_module": "@jupyter-widgets/controls",
      "model_module_version": "2.0.0",
      "model_name": "HTMLModel",
      "state": {
       "layout": "IPY_MODEL_28f77eb449a4422f8d8fc2ebe156aabb",
       "style": "IPY_MODEL_cde77e8cb1a1469bb6449519da9fffb8",
       "value": "<h5>Backend</h5>"
      }
     },
     "23ce2469f632416a8603b6ae7c113858": {
      "model_module": "@jupyter-widgets/controls",
      "model_module_version": "2.0.0",
      "model_name": "HTMLStyleModel",
      "state": {
       "description_width": "",
       "font_size": null,
       "text_color": null
      }
     },
     "28f77eb449a4422f8d8fc2ebe156aabb": {
      "model_module": "@jupyter-widgets/base",
      "model_module_version": "2.0.0",
      "model_name": "LayoutModel",
      "state": {
       "width": "145px"
      }
     },
     "2cea1ee843c94579aea4a8713b8c1821": {
      "model_module": "@jupyter-widgets/controls",
      "model_module_version": "2.0.0",
      "model_name": "HTMLStyleModel",
      "state": {
       "description_width": "",
       "font_size": null,
       "text_color": null
      }
     },
     "36c08cd57cf948888a56b56213efb112": {
      "model_module": "@jupyter-widgets/base",
      "model_module_version": "2.0.0",
      "model_name": "LayoutModel",
      "state": {
       "margin": "0px 0px 10px 0px"
      }
     },
     "3d9c20274b13430ca84bed1a88d97b3a": {
      "model_module": "@jupyter-widgets/controls",
      "model_module_version": "2.0.0",
      "model_name": "HTMLModel",
      "state": {
       "layout": "IPY_MODEL_aa0d636078ac4b2a8f5a6a70f6e1f22b",
       "style": "IPY_MODEL_a51384fbb93b475b89a052a49c8563ad",
       "value": "<h5>Message</h5>"
      }
     },
     "3e919b1f51c74da1a67fc64f91d14b96": {
      "model_module": "@jupyter-widgets/base",
      "model_module_version": "2.0.0",
      "model_name": "LayoutModel",
      "state": {
       "width": "190px"
      }
     },
     "556cd7e7d3ba4822aac0bba148dbb296": {
      "model_module": "@jupyter-widgets/controls",
      "model_module_version": "2.0.0",
      "model_name": "HBoxModel",
      "state": {
       "children": [
        "IPY_MODEL_ce7a67ea4c8c4c2894e635ec5df7b9b3",
        "IPY_MODEL_12f04b3bb4ca4ccd86a125d03d64ad86",
        "IPY_MODEL_5c31b558dcf3430aaa20245a66221cc9",
        "IPY_MODEL_d91acb0722c54ed09317e0f3e4cc7e8d",
        "IPY_MODEL_3d9c20274b13430ca84bed1a88d97b3a"
       ],
       "layout": "IPY_MODEL_d9dabac377164ad7b5d4bd2963a5ea63"
      }
     },
     "5c31b558dcf3430aaa20245a66221cc9": {
      "model_module": "@jupyter-widgets/controls",
      "model_module_version": "2.0.0",
      "model_name": "HTMLModel",
      "state": {
       "layout": "IPY_MODEL_bd843d80fe6247fa98ef5eee5f91a17d",
       "style": "IPY_MODEL_6bdf9821ca7a4aa8b60d434efd1904fc",
       "value": "<h5>Status</h5>"
      }
     },
     "6bdf9821ca7a4aa8b60d434efd1904fc": {
      "model_module": "@jupyter-widgets/controls",
      "model_module_version": "2.0.0",
      "model_name": "HTMLStyleModel",
      "state": {
       "description_width": "",
       "font_size": null,
       "text_color": null
      }
     },
     "9569d35b25b143f2a4262e82a7893486": {
      "model_module": "@jupyter-widgets/controls",
      "model_module_version": "2.0.0",
      "model_name": "ButtonStyleModel",
      "state": {
       "font_family": null,
       "font_size": null,
       "font_style": null,
       "font_variant": null,
       "font_weight": null,
       "text_color": null,
       "text_decoration": null
      }
     },
     "9a442dba8a60476995642a4a6550808d": {
      "model_module": "@jupyter-widgets/controls",
      "model_module_version": "2.0.0",
      "model_name": "HTMLStyleModel",
      "state": {
       "description_width": "",
       "font_size": null,
       "text_color": null
      }
     },
     "9fe24d3be7494a319dabd370f4111c33": {
      "model_module": "@jupyter-widgets/controls",
      "model_module_version": "2.0.0",
      "model_name": "HTMLModel",
      "state": {
       "layout": "IPY_MODEL_36c08cd57cf948888a56b56213efb112",
       "style": "IPY_MODEL_23ce2469f632416a8603b6ae7c113858",
       "value": "<p style='font-family: IBM Plex Sans, Arial, Helvetica, sans-serif; font-size: 20px; font-weight: medium;'>Circuit Properties</p>"
      }
     },
     "a3c330b7847e4df69afa564f3c6f618c": {
      "model_module": "@jupyter-widgets/base",
      "model_module_version": "2.0.0",
      "model_name": "LayoutModel",
      "state": {
       "width": "70px"
      }
     },
     "a51384fbb93b475b89a052a49c8563ad": {
      "model_module": "@jupyter-widgets/controls",
      "model_module_version": "2.0.0",
      "model_name": "HTMLStyleModel",
      "state": {
       "description_width": "",
       "font_size": null,
       "text_color": null
      }
     },
     "aa0d636078ac4b2a8f5a6a70f6e1f22b": {
      "model_module": "@jupyter-widgets/base",
      "model_module_version": "2.0.0",
      "model_name": "LayoutModel",
      "state": {}
     },
     "bcc6d7ac015742489e69ba059c1476a1": {
      "model_module": "@jupyter-widgets/controls",
      "model_module_version": "2.0.0",
      "model_name": "GridBoxModel",
      "state": {
       "children": [
        "IPY_MODEL_e2f9609915af4d3fa2660c811348ebd1"
       ],
       "layout": "IPY_MODEL_cd263a3c44214bb0951990ba195f3a46"
      }
     },
     "bd843d80fe6247fa98ef5eee5f91a17d": {
      "model_module": "@jupyter-widgets/base",
      "model_module_version": "2.0.0",
      "model_name": "LayoutModel",
      "state": {
       "width": "95px"
      }
     },
     "cd263a3c44214bb0951990ba195f3a46": {
      "model_module": "@jupyter-widgets/base",
      "model_module_version": "2.0.0",
      "model_name": "LayoutModel",
      "state": {
       "grid_template_areas": "\n                                       \". . . . right \"\n                                        ",
       "grid_template_columns": "20% 20% 20% 20% 20%",
       "width": "100%"
      }
     },
     "cde77e8cb1a1469bb6449519da9fffb8": {
      "model_module": "@jupyter-widgets/controls",
      "model_module_version": "2.0.0",
      "model_name": "HTMLStyleModel",
      "state": {
       "description_width": "",
       "font_size": null,
       "text_color": null
      }
     },
     "ce7a67ea4c8c4c2894e635ec5df7b9b3": {
      "model_module": "@jupyter-widgets/controls",
      "model_module_version": "2.0.0",
      "model_name": "HTMLModel",
      "state": {
       "layout": "IPY_MODEL_3e919b1f51c74da1a67fc64f91d14b96",
       "style": "IPY_MODEL_9a442dba8a60476995642a4a6550808d",
       "value": "<h5>Job ID</h5>"
      }
     },
     "d91acb0722c54ed09317e0f3e4cc7e8d": {
      "model_module": "@jupyter-widgets/controls",
      "model_module_version": "2.0.0",
      "model_name": "HTMLModel",
      "state": {
       "layout": "IPY_MODEL_a3c330b7847e4df69afa564f3c6f618c",
       "style": "IPY_MODEL_2cea1ee843c94579aea4a8713b8c1821",
       "value": "<h5>Queue</h5>"
      }
     },
     "d9dabac377164ad7b5d4bd2963a5ea63": {
      "model_module": "@jupyter-widgets/base",
      "model_module_version": "2.0.0",
      "model_name": "LayoutModel",
      "state": {
       "margin": "0px 0px 0px 37px",
       "width": "600px"
      }
     },
     "e2f9609915af4d3fa2660c811348ebd1": {
      "model_module": "@jupyter-widgets/controls",
      "model_module_version": "2.0.0",
      "model_name": "ButtonModel",
      "state": {
       "button_style": "primary",
       "description": "Clear",
       "layout": "IPY_MODEL_eae6f2efbe254129b5b8db563901dcc7",
       "style": "IPY_MODEL_9569d35b25b143f2a4262e82a7893486",
       "tooltip": null
      }
     },
     "eae6f2efbe254129b5b8db563901dcc7": {
      "model_module": "@jupyter-widgets/base",
      "model_module_version": "2.0.0",
      "model_name": "LayoutModel",
      "state": {
       "grid_area": "right",
       "padding": "0px 0px 0px 0px",
       "width": "70px"
      }
     }
    },
    "version_major": 2,
    "version_minor": 0
   }
  }
 },
 "nbformat": 4,
 "nbformat_minor": 5
}
