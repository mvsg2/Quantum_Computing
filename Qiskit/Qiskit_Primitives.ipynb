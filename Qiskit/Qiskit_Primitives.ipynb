{
 "cells": [
  {
   "cell_type": "code",
   "execution_count": 3,
   "metadata": {},
   "outputs": [],
   "source": [
    "from qiskit import IBMQ, execute, transpile, Aer, QuantumCircuit\n",
    "from time import time\n",
    "from qiskit_ibm_runtime import Estimator, QiskitRuntimeService, Session\n",
    "import numpy as np"
   ]
  },
  {
   "cell_type": "code",
   "execution_count": 4,
   "metadata": {},
   "outputs": [
    {
     "data": {
      "text/html": [
       "<pre style=\"word-wrap: normal;white-space: pre;background: #fff0;line-height: 1.1;font-family: &quot;Courier New&quot;,Courier,monospace\">        ┌───┐      ░ ┌─┐   \n",
       "   q_0: ┤ H ├──■───░─┤M├───\n",
       "        └───┘┌─┴─┐ ░ └╥┘┌─┐\n",
       "   q_1: ─────┤ X ├─░──╫─┤M├\n",
       "             └───┘ ░  ║ └╥┘\n",
       "meas_0: ══════════════╩══╬═\n",
       "                         ║ \n",
       "meas_1: ═════════════════╩═\n",
       "                           </pre>"
      ],
      "text/plain": [
       "        ┌───┐      ░ ┌─┐   \n",
       "   q_0: ┤ H ├──■───░─┤M├───\n",
       "        └───┘┌─┴─┐ ░ └╥┘┌─┐\n",
       "   q_1: ─────┤ X ├─░──╫─┤M├\n",
       "             └───┘ ░  ║ └╥┘\n",
       "meas_0: ══════════════╩══╬═\n",
       "                         ║ \n",
       "meas_1: ═════════════════╩═\n",
       "                           "
      ]
     },
     "execution_count": 4,
     "metadata": {},
     "output_type": "execute_result"
    }
   ],
   "source": [
    "qc = QuantumCircuit(2)\n",
    "qc.h(0)\n",
    "qc.cnot(0,1)\n",
    "qc.measure_all()\n",
    "qc.draw(scale=0.2)"
   ]
  },
  {
   "cell_type": "code",
   "execution_count": null,
   "metadata": {},
   "outputs": [],
   "source": []
  },
  {
   "cell_type": "code",
   "execution_count": 2,
   "metadata": {},
   "outputs": [],
   "source": [
    "service = QiskitRuntimeService(channel='ibm_quantum')"
   ]
  },
  {
   "cell_type": "code",
   "execution_count": 7,
   "metadata": {},
   "outputs": [
    {
     "ename": "TypeError",
     "evalue": "Invalid observables, expected Sequence[BaseOperator|PauliSumOp].",
     "output_type": "error",
     "traceback": [
      "\u001b[1;31m---------------------------------------------------------------------------\u001b[0m",
      "\u001b[1;31mTypeError\u001b[0m                                 Traceback (most recent call last)",
      "Cell \u001b[1;32mIn [7], line 3\u001b[0m\n\u001b[0;32m      1\u001b[0m \u001b[39mwith\u001b[39;00m Session(service\u001b[39m=\u001b[39mservice, backend\u001b[39m=\u001b[39m\u001b[39m'\u001b[39m\u001b[39mibmq_manila\u001b[39m\u001b[39m'\u001b[39m) \u001b[39mas\u001b[39;00m session:\n\u001b[0;32m      2\u001b[0m     est \u001b[39m=\u001b[39m Estimator(circuits\u001b[39m=\u001b[39mqc)\n\u001b[1;32m----> 3\u001b[0m     job \u001b[39m=\u001b[39m est\u001b[39m.\u001b[39mrun(circuits\u001b[39m=\u001b[39mqc, observables\u001b[39m=\u001b[39m[\u001b[39m'\u001b[39m\u001b[39mX\u001b[39m\u001b[39m'\u001b[39m], parameter_values\u001b[39m=\u001b[39m[\u001b[39m1.2\u001b[39m])\n\u001b[0;32m      4\u001b[0m     result \u001b[39m=\u001b[39m job\u001b[39m.\u001b[39mresult()\n",
      "File \u001b[1;32m~\\AppData\\Local\\Packages\\PythonSoftwareFoundation.Python.3.10_qbz5n2kfra8p0\\LocalCache\\local-packages\\Python310\\site-packages\\qiskit_ibm_runtime\\estimator.py:249\u001b[0m, in \u001b[0;36mEstimator.run\u001b[1;34m(self, circuits, observables, parameter_values, **kwargs)\u001b[0m\n\u001b[0;32m    247\u001b[0m \u001b[39m# To bypass base class merging of options.\u001b[39;00m\n\u001b[0;32m    248\u001b[0m user_kwargs \u001b[39m=\u001b[39m {\u001b[39m\"\u001b[39m\u001b[39m_user_kwargs\u001b[39m\u001b[39m\"\u001b[39m: kwargs}\n\u001b[1;32m--> 249\u001b[0m \u001b[39mreturn\u001b[39;00m \u001b[39msuper\u001b[39m()\u001b[39m.\u001b[39mrun(\n\u001b[0;32m    250\u001b[0m     circuits\u001b[39m=\u001b[39mcircuits,\n\u001b[0;32m    251\u001b[0m     observables\u001b[39m=\u001b[39mobservables,\n\u001b[0;32m    252\u001b[0m     parameter_values\u001b[39m=\u001b[39mparameter_values,\n\u001b[0;32m    253\u001b[0m     \u001b[39m*\u001b[39m\u001b[39m*\u001b[39muser_kwargs,\n\u001b[0;32m    254\u001b[0m )\n",
      "File \u001b[1;32m~\\AppData\\Local\\Packages\\PythonSoftwareFoundation.Python.3.10_qbz5n2kfra8p0\\LocalCache\\local-packages\\Python310\\site-packages\\qiskit\\primitives\\base\\base_estimator.py:219\u001b[0m, in \u001b[0;36mBaseEstimator.run\u001b[1;34m(self, circuits, observables, parameter_values, **run_options)\u001b[0m\n\u001b[0;32m    217\u001b[0m \u001b[39m# Singular validation\u001b[39;00m\n\u001b[0;32m    218\u001b[0m circuits \u001b[39m=\u001b[39m \u001b[39mself\u001b[39m\u001b[39m.\u001b[39m_validate_circuits(circuits)\n\u001b[1;32m--> 219\u001b[0m observables \u001b[39m=\u001b[39m \u001b[39mself\u001b[39;49m\u001b[39m.\u001b[39;49m_validate_observables(observables)\n\u001b[0;32m    220\u001b[0m parameter_values \u001b[39m=\u001b[39m \u001b[39mself\u001b[39m\u001b[39m.\u001b[39m_validate_parameter_values(\n\u001b[0;32m    221\u001b[0m     parameter_values,\n\u001b[0;32m    222\u001b[0m     default\u001b[39m=\u001b[39m[()] \u001b[39m*\u001b[39m \u001b[39mlen\u001b[39m(circuits),\n\u001b[0;32m    223\u001b[0m )\n\u001b[0;32m    225\u001b[0m \u001b[39m# Cross-validation\u001b[39;00m\n",
      "File \u001b[1;32m~\\AppData\\Local\\Packages\\PythonSoftwareFoundation.Python.3.10_qbz5n2kfra8p0\\LocalCache\\local-packages\\Python310\\site-packages\\qiskit\\primitives\\base\\base_estimator.py:265\u001b[0m, in \u001b[0;36mBaseEstimator._validate_observables\u001b[1;34m(observables)\u001b[0m\n\u001b[0;32m    261\u001b[0m     observables \u001b[39m=\u001b[39m (observables,)\n\u001b[0;32m    262\u001b[0m \u001b[39melif\u001b[39;00m \u001b[39mnot\u001b[39;00m \u001b[39misinstance\u001b[39m(observables, Sequence) \u001b[39mor\u001b[39;00m \u001b[39mnot\u001b[39;00m \u001b[39mall\u001b[39m(\n\u001b[0;32m    263\u001b[0m     \u001b[39misinstance\u001b[39m(obs, (BaseOperator, PauliSumOp)) \u001b[39mfor\u001b[39;00m obs \u001b[39min\u001b[39;00m observables\n\u001b[0;32m    264\u001b[0m ):\n\u001b[1;32m--> 265\u001b[0m     \u001b[39mraise\u001b[39;00m \u001b[39mTypeError\u001b[39;00m(\u001b[39m\"\u001b[39m\u001b[39mInvalid observables, expected Sequence[BaseOperator|PauliSumOp].\u001b[39m\u001b[39m\"\u001b[39m)\n\u001b[0;32m    266\u001b[0m \u001b[39melif\u001b[39;00m \u001b[39mnot\u001b[39;00m \u001b[39misinstance\u001b[39m(observables, \u001b[39mtuple\u001b[39m):\n\u001b[0;32m    267\u001b[0m     observables \u001b[39m=\u001b[39m \u001b[39mtuple\u001b[39m(observables)\n",
      "\u001b[1;31mTypeError\u001b[0m: Invalid observables, expected Sequence[BaseOperator|PauliSumOp]."
     ]
    }
   ],
   "source": [
    "with Session(service=service, backend='ibmq_manila') as session:\n",
    "    est = Estimator(circuits=qc)\n",
    "    job = est.run(circuits=qc, observables=['X'], parameter_values=[1.2])\n",
    "    result = job.result()"
   ]
  },
  {
   "cell_type": "code",
   "execution_count": null,
   "metadata": {},
   "outputs": [],
   "source": []
  }
 ],
 "metadata": {
  "kernelspec": {
   "display_name": "Python 3",
   "language": "python",
   "name": "python3"
  },
  "language_info": {
   "codemirror_mode": {
    "name": "ipython",
    "version": 3
   },
   "file_extension": ".py",
   "mimetype": "text/x-python",
   "name": "python",
   "nbconvert_exporter": "python",
   "pygments_lexer": "ipython3",
   "version": "3.10.9"
  },
  "orig_nbformat": 4,
  "vscode": {
   "interpreter": {
    "hash": "e1425da5446126f387a0a91d58cd488eb6c8da386ecf3da09dc869303a65696c"
   }
  }
 },
 "nbformat": 4,
 "nbformat_minor": 2
}
